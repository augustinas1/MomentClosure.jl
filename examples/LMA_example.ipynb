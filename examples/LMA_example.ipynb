{
 "cells": [
  {
   "cell_type": "code",
   "execution_count": null,
   "metadata": {},
   "outputs": [],
   "source": [
    "using Catalyst\n",
    "\n",
    "# NOTE: both models MUST preserve the same ordering of reactions in order to detect \n",
    "# how the nonlinear reactions are to be transformed using LMA\n",
    "\n",
    "rn_nonlinear = @reaction_network begin\n",
    "    @parameters σ_b σ_u ρ_b ρ_u\n",
    "    σ_b, g + p → 0\n",
    "    σ_u*(1-g), 0 ⇒ g + p\n",
    "    ρ_u, g → g + p\n",
    "    ρ_b*(1-g), 0 ⇒ p\n",
    "    1, p → 0\n",
    "end\n",
    "\n",
    "rn_linear = @reaction_network begin\n",
    "    @parameters σ_b_LMA σ_u ρ_b ρ_u\n",
    "    σ_b_LMA, g → 0\n",
    "    σ_u*(1-g), 0 ⇒ g\n",
    "    ρ_u, g → g+p\n",
    "    (ρ_b*(1-g)), 0 ⇒ p\n",
    "    1, p → 0\n",
    "end"
   ]
  },
  {
   "cell_type": "code",
   "execution_count": null,
   "metadata": {},
   "outputs": [],
   "source": [
    "using MomentClosure\n",
    "\n",
    "# NOTE: we have to provide the indices of binary variables in the system \n",
    "# as they are ordered in the *nonlinear* GRN.\n",
    "# The distinction here between linear and nonlinear GRNs is important as in some cases \n",
    "# the internal ordering of variables of the two Catalyst models can differ\n",
    "t = default_t()\n",
    "@species g(t)\n",
    "binary_vars = [speciesmap(rn_nonlinear)[g]]\n",
    "\n",
    "LMA_eqs, effective_params = linear_mapping_approximation(rn_nonlinear, rn_linear, binary_vars, combinatoric_ratelaws=false)\n",
    "display(effective_params)"
   ]
  },
  {
   "cell_type": "code",
   "execution_count": null,
   "metadata": {},
   "outputs": [],
   "source": [
    "using Latexify\n",
    "latexify(LMA_eqs)"
   ]
  },
  {
   "cell_type": "code",
   "execution_count": null,
   "metadata": {},
   "outputs": [],
   "source": [
    "println(latexify(LMA_eqs))"
   ]
  },
  {
   "cell_type": "code",
   "execution_count": null,
   "metadata": {},
   "outputs": [],
   "source": [
    "using OrdinaryDiffEq, Sundials, Plots\n",
    "\n",
    "u0map = [:g => 1.0, :p => 0.001]\n",
    "pmap = Dict(:σ_b => 0.004, :σ_u => 0.25, :ρ_b => 25.0, :ρ_u => 60.0)\n",
    "tspan = (0., 15.)\n",
    "dt = 0.1\n",
    "\n",
    "oprob_LMA = ODEProblem(LMA_eqs, u0map, tspan, pmap)\n",
    "sol_LMA = solve(oprob_LMA, CVODE_BDF(), saveat=dt)\n",
    "\n",
    "plot(sol_LMA, idxs=[2], label=\"LMA\", ylabel=\"⟨p⟩\", xlabel=\"time\", fmt=\"svg\", guidefontsize=12)"
   ]
  },
  {
   "cell_type": "code",
   "execution_count": null,
   "metadata": {},
   "outputs": [],
   "source": [
    "#savefig(\"../docs/src/assets/LMA_feedback_loop_mean_protein_number.svg\")"
   ]
  },
  {
   "cell_type": "code",
   "execution_count": null,
   "metadata": {},
   "outputs": [],
   "source": [
    "using FiniteStateProjection\n",
    "\n",
    "fsp_sys = FSPSystem(rn_nonlinear, combinatoric_ratelaw=false)\n",
    "# Truncate the state space of the system\n",
    "# The gene has two states (G or G*) whereas we consider protein number from 0 to 100\n",
    "state_space = [2, 201]\n",
    "\n",
    "# The initial condition is the matrix of probabilities representing the state of the system\n",
    "# We assume zero protein and the gene to be in the state G, hence the probability of this \n",
    "# specific state should be set to 1 initially\n",
    "u0 = zeros(state_space...)\n",
    "u0[2, 1] = 1.0\n",
    "\n",
    "# construct an ODE problem from the FSPSystem and solve it\n",
    "fsp_prob = ODEProblem(fsp_sys, u0, tspan, pmap)\n",
    "sol_FSP = solve(fsp_prob, CVODE_BDF(), saveat=dt)\n",
    "\n",
    "# extract the 1st order raw moments from the FSP solution \n",
    "μ_FSP = get_moments_FSP(sol_FSP, 1, \"raw\")\n",
    "plot!(sol_FSP.t, μ_FSP[(0,1)], label=\"FSP\", legend=:bottomright)"
   ]
  },
  {
   "cell_type": "code",
   "execution_count": null,
   "metadata": {},
   "outputs": [],
   "source": [
    "#savefig(\"../docs/src/assets/LMA+FSP_feedback_loop_mean_protein_number.svg\")"
   ]
  },
  {
   "cell_type": "code",
   "execution_count": null,
   "metadata": {},
   "outputs": [],
   "source": [
    "using TaylorSeries, HypergeometricFunctions\n",
    "\n",
    "function t_pFq(α::AbstractVector, β::AbstractVector, a::Taylor1)\n",
    "    order = a.order\n",
    "    aux = pFq(α, β, constant_term(a))\n",
    "    c = Taylor1(aux, order)\n",
    "\n",
    "    iszero(order) && return c\n",
    "\n",
    "    coeffs = t_pFq(α.+1, β.+1, Taylor1(a[0:end-1], a.order-1))\n",
    "    factor = prod(α)/prod(β)\n",
    "    for k in 1:length(a)-1\n",
    "        c[k] = sum(i * a[i] * coeffs[k-i] for i in 1:k) * factor / k\n",
    "    end\n",
    "\n",
    "    return c\n",
    "\n",
    "end"
   ]
  },
  {
   "cell_type": "code",
   "execution_count": null,
   "metadata": {},
   "outputs": [],
   "source": [
    "# calculate the raw moments up to time t at a fine temporal resolution\n",
    "T = 15.0\n",
    "tspan = (0., T)\n",
    "dt = 0.001\n",
    "oprob_LMA = remake(oprob_LMA; tspan)\n",
    "sol_LMA = solve(oprob_LMA, CVODE_BDF(), saveat=dt)\n",
    "\n",
    "# rebuild the symbolic expression for the effective parameter as a function of raw moments\n",
    "using ModelingToolkit: get_ps, getname\n",
    "ps = get_ps(rn_nonlinear)\n",
    "symbol_to_symbolic = Dict(Pair.(getname.(ps), ps))\n",
    "p_sub = [symbol_to_symbolic[p[1]] => p[2] for p in pmap]\n",
    "μ_sym = unknowns(LMA_eqs.odes)\n",
    "\n",
    "avg_σ_b_sym = first(values(effective_params))\n",
    "fn = build_function(substitute(avg_σ_b_sym, p_sub), μ_sym)\n",
    "avg_σ_b = eval(fn)\n",
    "# evaluate the time-averaged value of the effective parameter\n",
    "@time σ_b_avg = sum(avg_σ_b.(sol_LMA[:])) * dt / T"
   ]
  },
  {
   "cell_type": "code",
   "execution_count": null,
   "metadata": {},
   "outputs": [],
   "source": [
    "# need higher-precision numerics as Float64 can be unstable here due to very small numbers\n",
    "# DoubleFloats is sufficient for this example and much more efficient than BigFloat\n",
    "using DoubleFloats\n",
    "\n",
    "# define the numerical values of the parameters\n",
    "σ_u = pmap[:σ_u]; ρ_b = pmap[:ρ_b]; ρ_u = pmap[:ρ_u]\n",
    "Σ = 1 + σ_b_avg + σ_u\n",
    "ρ_Δ = ρ_b - ρ_u\n",
    "\n",
    "n = 100 # expansion order (or max protein number to evaluate)\n",
    "w₀ = -1 # value around which to expand\n",
    "\n",
    "# compute the Taylor expansion (note the use of Double64)\n",
    "w = w₀ + Taylor1(Double64, n)\n",
    "@time f = σ_b_avg/(Σ-1)*exp(-T*(Σ-1))*exp(-ρ_u*w*exp(-T))*t_pFq([σ_u], [Σ], -ρ_Δ*w*exp(-T))\n",
    "@time g = σ_u/(Σ-1)*exp(-ρ_u*w*exp(-T))*t_pFq([-σ_b_avg], [2-Σ], -ρ_Δ*w*exp(-T))\n",
    "\n",
    "@time G00 = exp(ρ_b*w)*(f * t_pFq([1-σ_b_avg], [2-Σ], -ρ_Δ*w) +\n",
    "                  g * t_pFq([1+σ_u], [Σ], -ρ_Δ*w) )\n",
    "\n",
    "@time G11 = σ_u^(-1) * exp(ρ_b*w) * (-σ_u*f*t_pFq([-σ_b_avg], [2-Σ], -ρ_Δ*w) +\n",
    "                                σ_b_avg*g*t_pFq([σ_u], [Σ], -ρ_Δ*w))\n",
    "\n",
    "probs = (G00+G11).coeffs\n",
    "\n",
    "# check that the probability distribution is more or less normalised to 1\n",
    "# need higher numerical precision if not\n",
    "isapprox(sum(probs), 1.0, rtol=1e-2)"
   ]
  },
  {
   "cell_type": "code",
   "execution_count": null,
   "metadata": {},
   "outputs": [],
   "source": [
    "plot(0:n, probs, xlabel=\"n\", ylabel=\"P(n, t=4)\", label=\"LMA\", fmt=\"svg\")\n",
    "# plot the FSP probability of protein number by marginalising over the gene states\n",
    "plot!(0:n, sum(sol_FSP[:, 151], dims=1)'[1:n+1], label=\"FSP\")"
   ]
  },
  {
   "cell_type": "code",
   "execution_count": null,
   "metadata": {},
   "outputs": [],
   "source": [
    "#savefig(\"../docs/src/assets/LMA+FSP_feedback_loop_distribution.svg\")"
   ]
  }
 ],
 "metadata": {
  "kernelspec": {
   "display_name": "Julia 1.11.4",
   "language": "julia",
   "name": "julia-1.11"
  },
  "language_info": {
   "file_extension": ".jl",
   "mimetype": "application/julia",
   "name": "julia",
   "version": "1.11.4"
  }
 },
 "nbformat": 4,
 "nbformat_minor": 4
}
