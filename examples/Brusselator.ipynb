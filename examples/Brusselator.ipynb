{
 "cells": [
  {
   "cell_type": "markdown",
   "metadata": {},
   "source": [
    "## Model definition"
   ]
  },
  {
   "cell_type": "code",
   "execution_count": null,
   "metadata": {},
   "outputs": [],
   "source": [
    "using MomentClosure, Catalyst"
   ]
  },
  {
   "cell_type": "code",
   "execution_count": null,
   "metadata": {
    "scrolled": true
   },
   "outputs": [],
   "source": [
    "#= Notes:\n",
    "  -`\\rightarrow` indicates mass-action reactions \n",
    "    for which the propensity functions are constructed accordingly\n",
    "    to the law of mass action. \n",
    "  - the system-size parameter Ω must be included manually\n",
    "=#\n",
    "\n",
    "rn = @reaction_network begin\n",
    "  @parameters c₁ c₂ c₃ c₄ Ω\n",
    "  (c₁/Ω^2), 2X + Y → 3X\n",
    "  (c₂), X → Y\n",
    "  (c₃*Ω, c₄), 0 ↔ X\n",
    "end"
   ]
  },
  {
   "cell_type": "code",
   "execution_count": null,
   "metadata": {},
   "outputs": [],
   "source": [
    "# net stoichiometry matrix\n",
    "netstoichmat(rn)"
   ]
  },
  {
   "cell_type": "code",
   "execution_count": null,
   "metadata": {},
   "outputs": [],
   "source": [
    "# vector of propensity functions\n",
    "propensities(rn, combinatoric_ratelaws=false)"
   ]
  },
  {
   "cell_type": "markdown",
   "metadata": {},
   "source": [
    "## Generating moment equations"
   ]
  },
  {
   "cell_type": "code",
   "execution_count": null,
   "metadata": {},
   "outputs": [],
   "source": [
    "# raw moment equations\n",
    "raw_eqs = generate_raw_moment_eqs(rn, 2, combinatoric_ratelaws=false);"
   ]
  },
  {
   "cell_type": "code",
   "execution_count": null,
   "metadata": {},
   "outputs": [],
   "source": [
    "using Latexify\n",
    "latexify(raw_eqs)"
   ]
  },
  {
   "cell_type": "code",
   "execution_count": null,
   "metadata": {},
   "outputs": [],
   "source": [
    "# central moment equations\n",
    "central_eqs = generate_central_moment_eqs(rn, 2, combinatoric_ratelaws=false)\n",
    "latexify(central_eqs)"
   ]
  },
  {
   "cell_type": "markdown",
   "metadata": {},
   "source": [
    "## Performing moment closure"
   ]
  },
  {
   "cell_type": "code",
   "execution_count": null,
   "metadata": {},
   "outputs": [],
   "source": [
    "# normal closure on raw moment equations\n",
    "closed_raw_eqs = moment_closure(raw_eqs, \"normal\")\n",
    "latexify(closed_raw_eqs)"
   ]
  },
  {
   "cell_type": "code",
   "execution_count": null,
   "metadata": {},
   "outputs": [],
   "source": [
    "# higher order moment closure functions\n",
    "latexify(closed_raw_eqs, :closure)"
   ]
  },
  {
   "cell_type": "code",
   "execution_count": null,
   "metadata": {},
   "outputs": [],
   "source": [
    "println(latexify(closed_raw_eqs, :closure))"
   ]
  },
  {
   "cell_type": "code",
   "execution_count": null,
   "metadata": {},
   "outputs": [],
   "source": [
    "# normal closure on central moment equations\n",
    "closed_central_eqs = moment_closure(central_eqs, \"normal\")\n",
    "latexify(closed_central_eqs)"
   ]
  },
  {
   "cell_type": "code",
   "execution_count": null,
   "metadata": {},
   "outputs": [],
   "source": [
    "latexify(closed_central_eqs, :closure)"
   ]
  },
  {
   "cell_type": "code",
   "execution_count": null,
   "metadata": {},
   "outputs": [],
   "source": [
    "println(latexify(closed_central_eqs, :closure))"
   ]
  },
  {
   "cell_type": "markdown",
   "metadata": {},
   "source": [
    "## Solving the moment equations"
   ]
  },
  {
   "cell_type": "code",
   "execution_count": null,
   "metadata": {},
   "outputs": [],
   "source": [
    "# check the ordering of species in the model\n",
    "speciesmap(raw_eqs)"
   ]
  },
  {
   "cell_type": "code",
   "execution_count": null,
   "metadata": {},
   "outputs": [],
   "source": [
    "# deterministic initial conditions\n",
    "moment_IC_map = deterministic_IC(u0map, closed_raw_eqs) "
   ]
  },
  {
   "cell_type": "code",
   "execution_count": null,
   "metadata": {},
   "outputs": [],
   "source": [
    "# parameter values\n",
    "pmap = [:c₁ => 0.9, :c₂ => 2, :c₃ => 1, :c₄ => 1, :Ω => 100]\n",
    "\n",
    "# mapping of initial molecule numbers\n",
    "u0map = [:X => 1, :Y => 1]\n",
    "\n",
    "# time interval to solve one on\n",
    "tspan = (0., 100.)\n",
    "\n",
    "# convert the closed raw moment equations into a DifferentialEquations ODEProblem\n",
    "oprob = ODEProblem(closed_raw_eqs, u0map, tspan, pmap)\n",
    "\n",
    "using OrdinaryDiffEqTsit5\n",
    "# solve using Tsit5() solver\n",
    "@time sol = solve(oprob, Tsit5(), saveat=0.1);"
   ]
  },
  {
   "cell_type": "code",
   "execution_count": null,
   "metadata": {
    "scrolled": false
   },
   "outputs": [],
   "source": [
    "using Plots\n",
    "plot(sol, idxs=[1,2], lw=2)"
   ]
  },
  {
   "cell_type": "code",
   "execution_count": null,
   "metadata": {},
   "outputs": [],
   "source": [
    "# Run SSA\n",
    "using JumpProcesses\n",
    "\n",
    "# convert ReactionSystem into JumpSystem\n",
    "# Note: can directly convert the ReactionSystem to DiscreteProblem \n",
    "# but then combinatoric_ratelaws cannot be set\n",
    "jsys = convert(JumpSystem, rn, combinatoric_ratelaws=false)\n",
    "jsys = complete(jsys) \n",
    "\n",
    "# create a DiscreteProblem encoding that the molecule numbers are integer-valued\n",
    "dprob = DiscreteProblem(jsys, u0map, tspan, pmap) # same parameters as defined earlier\n",
    "\n",
    "# create a JumpProblem: specify Gillespie's Direct Method as the solver\n",
    "# and SET save_positions to (false, false) as otherwise time of each\n",
    "# reaction occurence would be saved (complicating moment estimates)\n",
    "jprob = JumpProblem(jsys, dprob, Direct(), save_positions=(false, false))\n",
    "\n",
    "# define an EnsembleProblem to simulate multiple trajectories\n",
    "ensembleprob  = EnsembleProblem(jprob)\n",
    "\n",
    "# simulate 10000 SSA trajectories\n",
    "@time sol_SSA = solve(ensembleprob, SSAStepper(), saveat=0.1, trajectories=10000);"
   ]
  },
  {
   "cell_type": "code",
   "execution_count": null,
   "metadata": {},
   "outputs": [],
   "source": [
    "using DiffEqBase.EnsembleAnalysis\n",
    "\n",
    "means_SSA = timeseries_steps_mean(sol_SSA)\n",
    "plot!(means_SSA, lw=2, labels=[\"SSA μ₁₀\" \"SSA μ₀₁\"], linestyle=:dash, \n",
    "      linecolor=[1 2], background_color_legend=nothing, legend=:bottomright)"
   ]
  }
 ],
 "metadata": {
  "kernelspec": {
   "display_name": "Julia 1.11.4",
   "language": "julia",
   "name": "julia-1.11"
  },
  "language_info": {
   "file_extension": ".jl",
   "mimetype": "application/julia",
   "name": "julia",
   "version": "1.11.4"
  }
 },
 "nbformat": 4,
 "nbformat_minor": 4
}
