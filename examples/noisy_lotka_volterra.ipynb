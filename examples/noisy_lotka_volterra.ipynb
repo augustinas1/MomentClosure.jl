{
 "cells": [
  {
   "cell_type": "markdown",
   "id": "702ae571",
   "metadata": {},
   "source": [
    "## Model Identification of Diffusion Processes via Moment Closure Approximations"
   ]
  },
  {
   "cell_type": "markdown",
   "id": "5083ebbd",
   "metadata": {},
   "source": [
    "In this notebook, we look at the problem of identifying model parameters of a diffusion process given timeseries data on key moments of the process. Specifically, we will use moment closure approximations to improve efficiency of the identification process by reducing the model evaluation time. For this example, we will consider a noisy variation of the Lotka-Volterra model for the interaction between a predator and prey species:"
   ]
  },
  {
   "cell_type": "markdown",
   "id": "13ffe3b7",
   "metadata": {},
   "source": [
    "$$\\begin{align} \\begin{bmatrix} dx \\\\ dy \\end{bmatrix} = \\begin{bmatrix} \\gamma_1 x(t) - \\gamma_2  x(t)  y(t)  \\\\\n",
    "                                             \\gamma_4 x(t)  y(t) - \\gamma_3 y(t) - \\frac{1}{2} y(t) \\end{bmatrix} \\, dt + \\begin{bmatrix}  \\gamma_5 x(t) \\\\ 0 \\end{bmatrix} \\, dW_t  \\end{align} $$"
   ]
  },
  {
   "cell_type": "markdown",
   "id": "8ec3df5f",
   "metadata": {},
   "source": [
    "Throughout, we will rely on ModelingToolkit.jl to build the models which will then be solved using the existing infrastructure in DifferentialEquations.jl and its meta packages for simulating dynamical systems and stochastic processes."
   ]
  },
  {
   "cell_type": "code",
   "execution_count": null,
   "id": "8c08c539",
   "metadata": {},
   "outputs": [],
   "source": [
    "cd(string(@__DIR__,\"//..\"))\n",
    "using Pkg\n",
    "Pkg.activate(\".\")\n",
    "using MomentClosure, ModelingToolkit, DifferentialEquations, DiffEqParamEstim, Optim, LinearAlgebra, DifferentialEquations.EnsembleAnalysis, Plots\n",
    "using ModelingToolkit: setp, t_nounits as t, D_nounits as D"
   ]
  },
  {
   "cell_type": "code",
   "execution_count": null,
   "id": "43a23313",
   "metadata": {},
   "outputs": [],
   "source": [
    "using ModelingToolkit: t_nounits as t, D_nounits as D\n",
    "\n",
    "@variables x(t), y(t)\n",
    "@parameters γ1, γ2, γ3, γ4, γ5\n",
    "γ = [γ1, γ2, γ3, γ4, γ5]  \n",
    "drift_eqs = [D(x) ~ γ[1] * x - γ[2] * x * y ;\n",
    "             D(y) ~ γ[4] * x * y - γ[3] * y - y*0.5]\n",
    "diff_eqs = [γ[5]*x; 0]\n",
    "LV = SDESystem(drift_eqs, diff_eqs, t, [x,y], γ, name = :LV)\n",
    "LV = complete(LV)"
   ]
  },
  {
   "cell_type": "markdown",
   "id": "a3b3863d",
   "metadata": {},
   "source": [
    "Next, we will generate some data used for the estimation process. In this case, we will collect timeseries data on means and variances of both states of the process."
   ]
  },
  {
   "cell_type": "code",
   "execution_count": null,
   "id": "c5d86e29",
   "metadata": {},
   "outputs": [],
   "source": [
    "N_samples = 1000\n",
    "Tf = 10\n",
    "t_data = 0:0.2:Tf\n",
    "p_true = [γ[1] => 1, γ[2] => 2, γ[3] => 1, γ[4] => 2, γ[5] => 0.1]\n",
    "u0 = [x => 1.0, y => 0.25]\n",
    "LV_data = solve(EnsembleProblem(SDEProblem(LV, u0, (0.0, Tf), p_true)), saveat = t_data, trajectories = N_samples)\n",
    "means, vars = timeseries_steps_meanvar(LV_data);"
   ]
  },
  {
   "cell_type": "markdown",
   "id": "176ed809",
   "metadata": {},
   "source": [
    "Now we are ready to test, if we can identify the model parameters $ \\gamma_1, \\dots, \\gamma_5 $ solely from the data collected above. First, we will approach this parameter identification problem using the asymptotically exact approach of estimating the means and variances of the process with ensemble averages. To that end, we will use the following loss function in the parameter estimation problem:"
   ]
  },
  {
   "cell_type": "code",
   "execution_count": null,
   "id": "2c298280",
   "metadata": {},
   "outputs": [],
   "source": [
    "using ModelingToolkit: setp\n",
    "prob_SDE = SDEProblem(LV, u0, (0.0, Tf), zeros(5))\n",
    "psetter_SDE! = setp(prob_SDE, (γ1, γ2, γ3, γ4, γ5))\n",
    "function obj(p)\n",
    "    psetter_SDE!(prob_SDE, p)\n",
    "    sol = solve(EnsembleProblem(prob_SDE), saveat = t_data, trajectories = 1000)\n",
    "    sol_mean, sol_vars = timeseries_steps_meanvar(sol)\n",
    "    obj = sum(norm(sol_mean[i] - means[i])^2 for i in 1:length(t_data))\n",
    "    obj += 1e4*sum(norm(sol_vars[i] - vars[i])^2 for i in 1:length(t_data))\n",
    "    return obj\n",
    "end;"
   ]
  },
  {
   "cell_type": "markdown",
   "id": "5f05f19c",
   "metadata": {},
   "source": [
    "We can use this loss function now with any suitable optimization routine to identify a reasonable choice of the model parameters. We can for example use a very simple derivative-free optimizer (Nelder-Mead method) implemented in the Optim.jl package. However, since a single evaluation of the objective function requires sampling, hence is relatively expensive, we impose the constraint that the optimizer cannot run more than 2 minutes:"
   ]
  },
  {
   "cell_type": "code",
   "execution_count": null,
   "id": "974e8079",
   "metadata": {},
   "outputs": [],
   "source": [
    "# γ₁, γ₂, γ₃, γ₄, γ₅\n",
    "p_init = [1.3, 1.5, 1.4, 2.2, 0.1]\n",
    "opt_sampling = Optim.optimize(obj, p_init, Optim.Options(time_limit = 120))"
   ]
  },
  {
   "cell_type": "markdown",
   "id": "4ada156e",
   "metadata": {},
   "source": [
    "Using this approach, we identify parameters that match the data reasonably well, however, one may suspect that this is (if it all) a local minimum as the fit is not perfect."
   ]
  },
  {
   "cell_type": "code",
   "execution_count": null,
   "id": "58733791",
   "metadata": {},
   "outputs": [],
   "source": [
    "psetter_SDE!(prob_SDE, opt_sampling.minimizer)\n",
    "t_detail = collect(0:0.01:Tf) \n",
    "opt_sol = solve(EnsembleProblem(prob_SDE), saveat = t_detail, trajectories = 1000)\n",
    "opt_means, opt_vars = timeseries_steps_meanvar(opt_sol)\n",
    "\n",
    "mean_comp = scatter(t_data, [m[1] for m in means], color = :blue,\n",
    "                    xlabel = \"time\", ylabel = \"population size\", \n",
    "                    grid = false, title = \"means\", label = \"⟨x⟩ data\")\n",
    "scatter!(mean_comp, t_data, [m[2] for m in means], color = :red, label = \"⟨y⟩ data\")\n",
    "plot!(mean_comp, t_detail, [m[1] for m in opt_means], linewidth = 2, color = :blue, label = \"⟨x⟩ SDE model\")\n",
    "plot!(mean_comp, t_detail, [m[2] for m in opt_means], linewidth = 2, color = :red, label = \"⟨y⟩ SDE model\")\n",
    "\n",
    "var_comp = scatter(t_data, [v[1] for v in vars], color = :blue, grid = false,\n",
    "                   xlabel = \"time\", title = \"variances\", label = \"σ²(x) data\", legend = :topleft)\n",
    "scatter!(var_comp, t_data, [v[2] for v in vars], color = :red, label = \"σ²(y) data\")\n",
    "plot!(var_comp, t_detail, [v[1] for v in opt_vars], color = :blue, label = \"σ²(x) SDE model\")\n",
    "plot!(var_comp, t_detail, [v[2] for v in opt_vars], color = :red, label = \"σ²(y) SDE model\")\n",
    "\n",
    "plot(mean_comp, var_comp, size = (1200.0, 400.0))"
   ]
  },
  {
   "cell_type": "markdown",
   "id": "94b81fa3",
   "metadata": {},
   "source": [
    "Now we approach the same model identification problem via moment closure approximations in the hope of cutting down model evaluation cost, allowing us to identify better parameters in the same (or less) time. To that end, we construct an approximation of the moment dynamics of the process assuming that the distribution of the system state is approximately log-normal over the simulation horizon. Then, we can implement a simple loss function by comparing the moments predicted by the approximate model with those given by the data."
   ]
  },
  {
   "cell_type": "code",
   "execution_count": null,
   "id": "a69a16c5",
   "metadata": {},
   "outputs": [],
   "source": [
    "LV_moments = moment_closure(generate_raw_moment_eqs(LV, 2), \"log-normal\")\n",
    "u0map = deterministic_IC(last.(u0), LV_moments)\n",
    "prob_MA = ODEProblem(LV_moments, u0map, (0.0, Tf), zeros(5))\n",
    "psetter_MA! = setp(prob_MA, (γ1, γ2, γ3, γ4, γ5))\n",
    "\n",
    "function obj_MA(p)\n",
    "    psetter_MA!(prob_MA, p)\n",
    "    sol = solve(prob_MA, Tsit5(), saveat = t_data)\n",
    "    if SciMLBase.successful_retcode(sol)\n",
    "        obj = sum(norm(sol.u[i][1:2] - means[i])^2 for i in 1:length(t_data))\n",
    "        obj += 1e4*sum((sol.u[i][3] - sol.u[i][1]^2  - vars[i][1])^2 for i in 1:length(t_data))\n",
    "        obj += 1e4*sum((sol.u[i][5] - sol.u[i][2]^2  - vars[i][2])^2 for i in 1:length(t_data))\n",
    "    else\n",
    "        obj = 1e6\n",
    "    end\n",
    "    return obj\n",
    "end;"
   ]
  },
  {
   "cell_type": "markdown",
   "id": "8a86ffa8",
   "metadata": {},
   "source": [
    "As before, any suitable optimization routine can now be used to identify parameter values that result in a match between data and model prediction."
   ]
  },
  {
   "cell_type": "code",
   "execution_count": null,
   "id": "89d9b385",
   "metadata": {},
   "outputs": [],
   "source": [
    "p_init = [1.3, 1.5, 1.4, 2.2, 0.1]\n",
    "opt_MA = Optim.optimize(obj_MA, p_init, Optim.Options(time_limit = min(120, opt_sampling.time_run)))"
   ]
  },
  {
   "cell_type": "markdown",
   "id": "365e5ba2",
   "metadata": {},
   "source": [
    "And indeed, we identify model parameters that provide a better match between data and model, even if the original SDE model is being evaluated (note in particular that the below graphic confirms that the moment closure approximation provides a reasonably accurate approximation to the ensemble averages):"
   ]
  },
  {
   "cell_type": "code",
   "execution_count": null,
   "id": "1e0d820c",
   "metadata": {},
   "outputs": [],
   "source": [
    "p_opt = opt_MA.minimizer\n",
    "t_detail = collect(0:0.01:Tf) \n",
    "psetter_SDE!(prob_SDE, p_opt)\n",
    "opt_sol = solve(EnsembleProblem(prob_SDE), saveat = t_detail, trajectories = 1000)\n",
    "opt_means = [timestep_mean(opt_sol, i) for i in 1:length(t_detail)]\n",
    "opt_vars = [timestep_meanvar(opt_sol, i)[2] for i in 1:length(t_detail)]\n",
    "\n",
    "psetter_MA!(prob_MA, p_opt)\n",
    "opt_sol_approx = solve(prob_MA, saveat = t_detail)\n",
    "\n",
    "mean_comp = scatter(t_data, [m[1] for m in means], color = :blue,\n",
    "                     xlabel = \"time\", ylabel = \"population size\", \n",
    "                     grid = false, title = \"means\", label = \"⟨x⟩ data\")\n",
    "scatter!(mean_comp, t_data, [m[2] for m in means], color = :red, label = \"⟨y⟩ data\")\n",
    "plot!(mean_comp, t_detail, [m[1] for m in opt_means], linewidth = 2, color = :blue, label = \"⟨x⟩ SDE model\")\n",
    "plot!(mean_comp, t_detail, [m[2] for m in opt_means], linewidth = 2, color = :red, label = \"⟨y⟩ SDE model\")\n",
    "plot!(mean_comp, t_detail, [m[1] for m in opt_sol_approx.u], linewidth = 2, color = :black, linestyle = :dash, label = \"closure approx.\")\n",
    "plot!(mean_comp, t_detail, [m[2] for m in opt_sol_approx.u], linewidth = 2, color = :black, linestyle = :dash, label = nothing)\n",
    "\n",
    "\n",
    "var_comp = scatter(t_data, [v[1] for v in vars], color = :blue,\n",
    "                   xlabel = \"time\", title = \"variances\", grid = false, label = \"σ²(x) data\", legend = :topleft)\n",
    "scatter!(var_comp, t_data, [v[2] for v in vars], color = :red, label = \"σ²(y) data\")\n",
    "plot!(var_comp, t_detail, [v[1] for v in opt_vars], color = :blue, label = \"σ²(x) SDE model\")\n",
    "plot!(var_comp, t_detail, [v[2] for v in opt_vars], color = :red, label = \"σ²(y) SDE model\")\n",
    "plot!(var_comp, t_detail, [m[3] - m[1]^2 for m in opt_sol_approx.u], linewidth = 2, color = :black, linestyle = :dash, label = \"closure approx.\")\n",
    "plot!(var_comp, t_detail, [m[5] - m[2]^2 for m in opt_sol_approx.u], linewidth = 2, color = :black, linestyle = :dash, label = nothing)\n",
    "\n",
    "plot(mean_comp, var_comp, size = (1200.0, 400.0))"
   ]
  },
  {
   "cell_type": "code",
   "execution_count": null,
   "id": "a24c7e9b",
   "metadata": {},
   "outputs": [],
   "source": [
    "bar([\"sample averages\", \"closure approximation\"], [opt_sampling.time_run, opt_MA.time_run], title = \"Solution Time\", ylabel = \"time [s]\", legend = false )"
   ]
  },
  {
   "cell_type": "code",
   "execution_count": null,
   "id": "a6109831",
   "metadata": {},
   "outputs": [],
   "source": [
    "opt_MA.time_run"
   ]
  }
 ],
 "metadata": {
  "kernelspec": {
   "display_name": "Julia 1.11.4",
   "language": "julia",
   "name": "julia-1.11"
  },
  "language_info": {
   "file_extension": ".jl",
   "mimetype": "application/julia",
   "name": "julia",
   "version": "1.11.4"
  }
 },
 "nbformat": 4,
 "nbformat_minor": 5
}
