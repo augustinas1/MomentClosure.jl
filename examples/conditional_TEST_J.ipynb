{
 "cells": [
  {
   "cell_type": "code",
   "execution_count": null,
   "metadata": {},
   "outputs": [],
   "source": [
    "using MomentClosure, Latexify, OrdinaryDiffEq, Catalyst"
   ]
  },
  {
   "cell_type": "markdown",
   "metadata": {},
   "source": [
    "$$ G \\stackrel{c_1}{\\rightarrow} G+P, \\\\\n",
    "   G^* \\stackrel{c_2}{\\rightarrow} G^*+P, \\\\\n",
    "   P \\stackrel{c_3}{\\rightarrow} 0 \\\\\n",
    "   G+P \\underset{c_5}{\\stackrel{c_4}{\\rightleftharpoons}}  G^* $$\n",
    "   \n",
    "On/off gene states are merged into a Bernoulli variable $g(t)$ which can be either $1$ ($G$) or $0$ ($G^*$). The number of proteins in the system is given by $p(t)$. "
   ]
  },
  {
   "cell_type": "markdown",
   "metadata": {},
   "source": [
    "### Using Catalyst.jl `ReactionSystem`"
   ]
  },
  {
   "cell_type": "markdown",
   "metadata": {},
   "source": [
    "* $\\rightarrow$ indicates a reaction that follows the law of mass action (need to indicate only the reaction coefficient, full propensity function is constructed automatically)\n",
    "* $\\Rightarrow$ indicates a reaction that does not follow the law of mass action (need to define the full propensity function)"
   ]
  },
  {
   "cell_type": "code",
   "execution_count": null,
   "metadata": {},
   "outputs": [],
   "source": [
    "@parameters c₁, c₂, c₃, c₄, c₅\n",
    "rn = @reaction_network begin\n",
    "    (c₁), g → g+p\n",
    "    (c₂*(1-g)), 0 ⇒ p\n",
    "    (c₃), p → 0\n",
    "    (c₄), g+p → 0\n",
    "    (c₅*(1-g)), 0 ⇒ g+p\n",
    "end"
   ]
  },
  {
   "cell_type": "markdown",
   "metadata": {},
   "source": [
    "Check the stoichiometry matrix and propensity functions:"
   ]
  },
  {
   "cell_type": "code",
   "execution_count": null,
   "metadata": {},
   "outputs": [],
   "source": [
    "propensities(rn, combinatoric_ratelaws=false)"
   ]
  },
  {
   "cell_type": "code",
   "execution_count": null,
   "metadata": {},
   "outputs": [],
   "source": [
    "netstoichmat(rn)"
   ]
  },
  {
   "cell_type": "markdown",
   "metadata": {},
   "source": [
    "### Moment equations"
   ]
  },
  {
   "cell_type": "markdown",
   "metadata": {},
   "source": [
    "Generate raw moment equations up to 3rd order.\n",
    "\n",
    "The argument `combinatoric_ratelaws = false` indicates whether binomial coefficients are included when constructing the propensity functions for the reactions that follow the law of mass action (does not play a role in this specific scenarion)\n",
    "\n",
    "Equivalently, central moment equations can be generated using `generate_central_moment_eqs(rn, 3, 5, combinatoric_ratelaws=false)`"
   ]
  },
  {
   "cell_type": "code",
   "execution_count": null,
   "metadata": {},
   "outputs": [],
   "source": [
    "raw_eqs = generate_raw_moment_eqs(rn, 3, combinatoric_ratelaws=false)\n",
    "latexify(raw_eqs)"
   ]
  },
  {
   "cell_type": "markdown",
   "metadata": {},
   "source": [
    "We are solving for moments up to `m_order = 3`, and in the equations encounter moments up to `exp_order = 5`. "
   ]
  },
  {
   "cell_type": "markdown",
   "metadata": {},
   "source": [
    "Use the Bernoulli variable properties to eliminate redundant equations to see how they simplify:"
   ]
  },
  {
   "cell_type": "code",
   "execution_count": null,
   "metadata": {},
   "outputs": [],
   "source": [
    "binary_vars = [1]\n",
    "bernoulli_eqs = bernoulli_moment_eqs(raw_eqs, binary_vars)\n",
    "latexify(bernoulli_eqs)"
   ]
  },
  {
   "cell_type": "markdown",
   "metadata": {},
   "source": [
    "### Closing the moment equations\n",
    "\n",
    "Finally, we can apply the selected moment closure method on the system of raw moment equations:"
   ]
  },
  {
   "cell_type": "code",
   "execution_count": null,
   "metadata": {},
   "outputs": [],
   "source": [
    "closed_raw_eqs = moment_closure(raw_eqs, \"conditional derivative matching\", binary_vars)\n",
    "latexify(closed_raw_eqs)"
   ]
  },
  {
   "cell_type": "markdown",
   "metadata": {},
   "source": [
    "We can also print out the closure functions for each higher order moment:"
   ]
  },
  {
   "cell_type": "code",
   "execution_count": null,
   "metadata": {},
   "outputs": [],
   "source": [
    "latexify(closed_raw_eqs, :closure)"
   ]
  },
  {
   "cell_type": "markdown",
   "metadata": {},
   "source": [
    "### Numerical solution\n",
    "\n",
    "The closed moment equations can be solved using DifferentialEquations.jl (or just OrdinaryDiffEq.jl which is more lightweight and sufficient for this particular case. "
   ]
  },
  {
   "cell_type": "code",
   "execution_count": null,
   "metadata": {},
   "outputs": [],
   "source": [
    "# PARAMETER INITIALISATION\n",
    "pmap = [c₁ => 0.01,\n",
    "        c₂ => 40,\n",
    "        c₃ => 1,\n",
    "        c₄ => 1,\n",
    "        c₅ => 1]\n",
    "\n",
    "# DETERMINISTIC INITIAL CONDITIONS\n",
    "u0map = [:g => 1., :p => 0.001]\n",
    "\n",
    "# time interval to solve on\n",
    "tspan = (0., 1000.0)\n",
    "dt = 1\n",
    "\n",
    "@time oprob = ODEProblem(closed_raw_eqs, u0map, tspan, pmap);\n",
    "@time sol_CDM = solve(oprob, Tsit5(), saveat=dt);"
   ]
  },
  {
   "cell_type": "code",
   "execution_count": null,
   "metadata": {},
   "outputs": [],
   "source": [
    "using Plots\n",
    "\n",
    "plot(sol_CDM.t, sol_CDM[1,:], \n",
    "    label  = \"CDM\", \n",
    "    legend = true,\n",
    "    xlabel = \"Time [s]\",\n",
    "    ylabel = \"Mean gene number\",\n",
    "    lw=2,\n",
    "    legendfontsize=8,\n",
    "    xtickfontsize=10,\n",
    "    ytickfontsize=10,\n",
    "    dpi=100)"
   ]
  },
  {
   "cell_type": "code",
   "execution_count": null,
   "metadata": {},
   "outputs": [],
   "source": [
    "plot(sol_CDM.t, sol_CDM[2,:], \n",
    "    label  = \"CDM\",\n",
    "    legend = :bottomright,\n",
    "    xlabel = \"Time [s]\",\n",
    "    ylabel = \"Mean protein number\",\n",
    "    lw=2,\n",
    "    legendfontsize=8,\n",
    "    xtickfontsize=10,\n",
    "    ytickfontsize=10,\n",
    "    dpi=100)"
   ]
  },
  {
   "cell_type": "code",
   "execution_count": null,
   "metadata": {},
   "outputs": [],
   "source": [
    "std_CDM = sqrt.(sol_CDM[4,2:end] .- sol_CDM[2,2:end].^2)\n",
    "plot(sol_CDM.t[2:end], std_CDM, \n",
    "    label  = \"CDM\", \n",
    "    legend = true,\n",
    "    xlabel = \"Time [s]\",\n",
    "    ylabel = \"standard deviation of the protein number\",\n",
    "    lw=2,\n",
    "    legendfontsize=8,\n",
    "    xtickfontsize=10,\n",
    "    ytickfontsize=10,\n",
    "    dpi=100)"
   ]
  },
  {
   "cell_type": "markdown",
   "metadata": {},
   "source": [
    "### SSA"
   ]
  },
  {
   "cell_type": "code",
   "execution_count": null,
   "metadata": {},
   "outputs": [],
   "source": [
    "using JumpProcesses\n",
    "\n",
    "# initial conditions [g, p]\n",
    "u0map = [:g => 1, :p => 0]\n",
    "\n",
    "# time interval to solve on\n",
    "tspan = (0., 1000.)\n",
    "\n",
    "# create a discrete problem to encode that our species are integer valued\n",
    "dprob = DiscreteProblem(rn, u0map, tspan, pmap)\n",
    "\n",
    "# create a JumpProblem and specify Gillespie's Direct Method as the solver:\n",
    "jprob = JumpProblem(rn, dprob, Direct(), save_positions=(false, false))\n",
    "# SET save_positions to (false, false) as otherwise time of each reaction occurence is saved\n",
    "\n",
    "dt = 1 # time resolution at which numerical solution is saved\n",
    "\n",
    "# solve and plot\n",
    "ensembleprob  = EnsembleProblem(jprob)\n",
    "@time sol_SSA = solve(ensembleprob, SSAStepper(), saveat=dt, trajectories=1000);"
   ]
  },
  {
   "cell_type": "markdown",
   "metadata": {},
   "source": [
    "Can compute all sample moments up to chosen order"
   ]
  },
  {
   "cell_type": "code",
   "execution_count": null,
   "metadata": {},
   "outputs": [],
   "source": [
    "@time SSA_μ = get_raw_moments(sol_SSA, 2);\n",
    "@time SSA_M = get_central_moments(sol_SSA, 2);"
   ]
  },
  {
   "cell_type": "code",
   "execution_count": null,
   "metadata": {},
   "outputs": [],
   "source": [
    "plot(sol_CDM.t, [sol_CDM[1,:], SSA_μ[1,0]], \n",
    "    label  = [\"CDM\" \"SSA\"], \n",
    "    legend = true,\n",
    "    xlabel = \"Time [s]\",\n",
    "    ylabel = \"Mean gene number\",\n",
    "    lw=2,\n",
    "    legendfontsize=8,\n",
    "    xtickfontsize=10,\n",
    "    ytickfontsize=10,\n",
    "    dpi=100)"
   ]
  },
  {
   "cell_type": "code",
   "execution_count": null,
   "metadata": {
    "scrolled": false
   },
   "outputs": [],
   "source": [
    "plot(sol_CDM.t, [sol_CDM[2,:], SSA_μ[0,1]], \n",
    "    label  = [\"CDM\" \"SSA\"],\n",
    "    legend = :bottomright,\n",
    "    xlabel = \"Time [s]\",\n",
    "    ylabel = \"Mean protein number\",\n",
    "    lw=2,\n",
    "    legendfontsize=8,\n",
    "    xtickfontsize=10,\n",
    "    ytickfontsize=10,\n",
    "    dpi=100)"
   ]
  },
  {
   "cell_type": "code",
   "execution_count": null,
   "metadata": {},
   "outputs": [],
   "source": [
    "std_CDM = sqrt.(sol_CDM[4,2:end] .- sol_CDM[2,2:end].^2)\n",
    "std_p_SSA = sqrt.(SSA_M[0,2][2:end])\n",
    "plot(sol_CDM.t[2:end], [std_CDM, std_p_SSA], \n",
    "    label  = [\"CDM\" \"SSA\"], \n",
    "    legend = true,\n",
    "    xlabel = \"Time [s]\",\n",
    "    ylabel = \"standard deviation of the protein number\",\n",
    "    lw=2,\n",
    "    legendfontsize=8,\n",
    "    xtickfontsize=10,\n",
    "    ytickfontsize=10,\n",
    "    dpi=100)"
   ]
  }
 ],
 "metadata": {
  "kernelspec": {
   "display_name": "Julia 1.11.4",
   "language": "julia",
   "name": "julia-1.11"
  },
  "language_info": {
   "file_extension": ".jl",
   "mimetype": "application/julia",
   "name": "julia",
   "version": "1.11.4"
  }
 },
 "nbformat": 4,
 "nbformat_minor": 5
}
