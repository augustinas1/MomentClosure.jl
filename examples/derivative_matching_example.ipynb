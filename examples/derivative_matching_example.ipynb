{
 "cells": [
  {
   "cell_type": "code",
   "execution_count": null,
   "metadata": {},
   "outputs": [],
   "source": [
    "using Catalyst \n",
    "\n",
    "rn = @reaction_network begin\n",
    "    @parameters c₁ c₂\n",
    "    (c₁), x₁ → 2x₁+x₂\n",
    "    (c₂), x₁+x₂ → x₂\n",
    "end\n",
    "\n",
    "# parameter values\n",
    "pmap = [:c₁ => 1.0, :c₂ => 1.0]\n",
    "# initial conditions\n",
    "u0map = [:x₁ => 20, :x₂ => 10]\n",
    "# time interval to solve on\n",
    "tspan = (0., 0.5)"
   ]
  },
  {
   "cell_type": "code",
   "execution_count": null,
   "metadata": {},
   "outputs": [],
   "source": [
    "using MomentClosure, Latexify\n",
    "\n",
    "eqs2 = generate_raw_moment_eqs(rn, 2)\n",
    "dm2_eqs = moment_closure(eqs2, \"derivative matching\")\n",
    "latexify(dm2_eqs, :closure, print_all=true)"
   ]
  },
  {
   "cell_type": "code",
   "execution_count": null,
   "metadata": {},
   "outputs": [],
   "source": [
    "println(latexify(dm2_eqs, :closure, print_all=true))"
   ]
  },
  {
   "cell_type": "code",
   "execution_count": null,
   "metadata": {},
   "outputs": [],
   "source": [
    "unknowns(dm2_eqs)"
   ]
  },
  {
   "cell_type": "code",
   "execution_count": null,
   "metadata": {},
   "outputs": [],
   "source": [
    "using OrdinaryDiffEqTsit5\n",
    "\n",
    "oprob = ODEProblem(dm2_eqs, u0map, tspan, pmap)\n",
    "dm2_sol = solve(oprob, Tsit5(), saveat=0.01);"
   ]
  },
  {
   "cell_type": "code",
   "execution_count": null,
   "metadata": {},
   "outputs": [],
   "source": [
    "μ₀₁ = dm2_sol[2, :]\n",
    "μ₀₂ = dm2_sol[5, :]\n",
    "μ₀₃ = (μ₀₁ .^(-3)) .* (μ₀₂ .^3)\n",
    "dm2_κ₀₃ = 2 .* μ₀₁ .^3 .- 3 .* μ₀₂ .* μ₀₁ .+ μ₀₃;"
   ]
  },
  {
   "cell_type": "code",
   "execution_count": null,
   "metadata": {},
   "outputs": [],
   "source": [
    "eqs3 = generate_raw_moment_eqs(rn, 3)\n",
    "dm3_eqs = moment_closure(eqs3, \"derivative matching\")\n",
    "latexify(dm3_eqs, :closure, print_all=true)"
   ]
  },
  {
   "cell_type": "code",
   "execution_count": null,
   "metadata": {},
   "outputs": [],
   "source": [
    "println(latexify(dm3_eqs, :closure, print_all=true))"
   ]
  },
  {
   "cell_type": "code",
   "execution_count": null,
   "metadata": {},
   "outputs": [],
   "source": [
    "unknowns(dm3_eqs)"
   ]
  },
  {
   "cell_type": "code",
   "execution_count": null,
   "metadata": {},
   "outputs": [],
   "source": [
    "oprob = ODEProblem(dm3_eqs, u0map, tspan, pmap)\n",
    "dm3_sol = solve(oprob, Tsit5(), saveat=0.01, abstol=1e-8, reltol=1e-8)\n",
    "\n",
    "μ₀₁ = dm3_sol[2,:]\n",
    "μ₀₂ = dm3_sol[5,:]\n",
    "μ₀₃ = dm3_sol[9,:]\n",
    "dm3_κ₀₃ = 2 .* μ₀₁ .^ 3 - 3 .* μ₀₂ .* μ₀₁ .+ μ₀₃;"
   ]
  },
  {
   "cell_type": "code",
   "execution_count": null,
   "metadata": {},
   "outputs": [],
   "source": [
    "central_eqs3 = generate_central_moment_eqs(rn, 3)\n",
    "dm3_central_eqs = moment_closure(central_eqs3, \"derivative matching\")\n",
    "oprob = ODEProblem(dm3_central_eqs, u0map, tspan, pmap)\n",
    "dm3_central_sol = solve(oprob, Tsit5(), saveat=0.01, abstol=1e-8, reltol=1e-8);"
   ]
  },
  {
   "cell_type": "code",
   "execution_count": null,
   "metadata": {},
   "outputs": [],
   "source": [
    "dm3_κ₀₃ ≈ dm3_central_sol[9,:]"
   ]
  },
  {
   "cell_type": "code",
   "execution_count": null,
   "metadata": {},
   "outputs": [],
   "source": [
    "using JumpProcesses\n",
    "\n",
    "dprob = DiscreteProblem(rn, u0map, tspan, pmap)\n",
    "jprob = JumpProblem(rn, dprob, Direct(), save_positions=(false, false))\n",
    "\n",
    "ensembleprob  = EnsembleProblem(jprob)\n",
    "@time sol_SSA = solve(ensembleprob, SSAStepper(), saveat=0.01, trajectories=100000)"
   ]
  },
  {
   "cell_type": "code",
   "execution_count": null,
   "metadata": {},
   "outputs": [],
   "source": [
    "@time ssa_κ₀₃ = get_cumulants(sol_SSA, 3)[0, 3];"
   ]
  },
  {
   "cell_type": "code",
   "execution_count": null,
   "metadata": {},
   "outputs": [],
   "source": [
    "using Plots, LaTeXStrings\n",
    "\n",
    "plot(dm2_sol.t, dm2_κ₀₃, lw=2, label=\"2nd order DM\")\n",
    "plot!(dm2_sol.t, dm3_κ₀₃, lw=2, label=\"3rd order DM\")\n",
    "plot!(dm2_sol.t, ssa_κ₀₃, lw=2, label=\"SSA\")\n",
    "plot!(ylabel=L\"\\kappa_{03}\", xlabel=L\"t\", guidefontsize=14, legend=:bottomright)"
   ]
  },
  {
   "cell_type": "code",
   "execution_count": null,
   "metadata": {},
   "outputs": [],
   "source": [
    "#savefig(\"../docs/src/assets/derivative_matching_cumulant.svg\")"
   ]
  },
  {
   "cell_type": "code",
   "execution_count": null,
   "metadata": {},
   "outputs": [],
   "source": [
    "ln2_eqs = moment_closure(eqs2, \"log-normal\")\n",
    "latexify(ln2_eqs, :closure, print_all=true)"
   ]
  },
  {
   "cell_type": "code",
   "execution_count": null,
   "metadata": {},
   "outputs": [],
   "source": [
    "println(latexify(ln2_eqs, :closure, print_all=true))"
   ]
  },
  {
   "cell_type": "code",
   "execution_count": null,
   "metadata": {},
   "outputs": [],
   "source": [
    "latexify(dm2_eqs, :closure, print_all=true)"
   ]
  },
  {
   "cell_type": "code",
   "execution_count": null,
   "metadata": {},
   "outputs": [],
   "source": [
    "println(latexify(dm2_eqs, :closure, print_all=true))"
   ]
  },
  {
   "cell_type": "code",
   "execution_count": null,
   "metadata": {},
   "outputs": [],
   "source": [
    "ln3_eqs = moment_closure(eqs3, \"log-normal\")\n",
    "latexify(ln3_eqs, :closure, print_all=true)"
   ]
  },
  {
   "cell_type": "code",
   "execution_count": null,
   "metadata": {},
   "outputs": [],
   "source": [
    "println(latexify(ln3_eqs, :closure, print_all=true))"
   ]
  },
  {
   "cell_type": "code",
   "execution_count": null,
   "metadata": {},
   "outputs": [],
   "source": [
    "println(latexify(dm3_eqs, :closure, print_all=true))"
   ]
  }
 ],
 "metadata": {
  "kernelspec": {
   "display_name": "Julia 1.11.4",
   "language": "julia",
   "name": "julia-1.11"
  },
  "language_info": {
   "file_extension": ".jl",
   "mimetype": "application/julia",
   "name": "julia",
   "version": "1.11.4"
  }
 },
 "nbformat": 4,
 "nbformat_minor": 4
}
