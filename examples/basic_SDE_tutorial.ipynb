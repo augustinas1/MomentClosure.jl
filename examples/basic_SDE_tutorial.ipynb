{
 "cells": [
  {
   "cell_type": "code",
   "execution_count": null,
   "metadata": {},
   "outputs": [],
   "source": [
    "using ModelingToolkit\n",
    "using ModelingToolkit: t_nounits as t, D_nounits as D\n",
    "\n",
    "# Stochastic description of the Van der Pol oscillator\n",
    "\n",
    "@variables x₁(t), x₂(t)\n",
    "@parameters ϵ, ω_n, ω_g, A\n",
    "\n",
    "drift_eqs = [D(x₁) ~ x₂;\n",
    "             D(x₂) ~ ϵ*(1-x₁^2)*x₂ - ω_n^2*x₁ + A*cos(ω_g*t)]\n",
    "diff_eqs = [0; A]\n",
    "\n",
    "vdp_model = SDESystem(drift_eqs, diff_eqs, t, [x₁, x₂], [ϵ, ω_n, ω_g, A], name = :VdP)\n",
    "\n",
    "ps = [ϵ => 0.1, ω_n => 120*pi, ω_g => 120*pi, A => 2.5] # parameter values\n",
    "u0map = [x₁ => 0.1, x₂ => 0.1]   # initial conditions\n",
    "tspan = (0., 0.1) # simulation time limit"
   ]
  },
  {
   "cell_type": "code",
   "execution_count": null,
   "metadata": {},
   "outputs": [],
   "source": [
    "using MomentClosure, Latexify\n",
    "\n",
    "moment_eqs = generate_raw_moment_eqs(vdp_model, 2) \n",
    "latexify(moment_eqs)"
   ]
  },
  {
   "cell_type": "code",
   "execution_count": null,
   "metadata": {},
   "outputs": [],
   "source": [
    "println(latexify(moment_eqs))"
   ]
  },
  {
   "cell_type": "code",
   "execution_count": null,
   "metadata": {},
   "outputs": [],
   "source": [
    "using OrdinaryDiffEqTsit5\n",
    "using StochasticDiffEq\n",
    "\n",
    "closed_eqs = moment_closure(moment_eqs, \"derivative matching\")\n",
    "oprob = ODEProblem(closed_eqs, u0map, tspan, ps)\n",
    "sol_MA = solve(oprob, Tsit5(), saveat=0.0001);"
   ]
  },
  {
   "cell_type": "code",
   "execution_count": null,
   "metadata": {},
   "outputs": [],
   "source": [
    "using DifferentialEquations.EnsembleAnalysis, Plots\n",
    "\n",
    "prob_SDE = SDEProblem(complete(vdp_model), u0map, tspan, ps)\n",
    "@time sol_SDE = solve(EnsembleProblem(prob_SDE), SRIW1(), saveat=0.0001, trajectories=100)\n",
    "means_SDE = timeseries_steps_mean(sol_SDE)\n",
    "\n",
    "plot(sol_MA.t, sol_MA[1, :], lw=2, label=\"MA\", ylabel=\"⟨x₁⟩\", xlabel=\"time\")\n",
    "plot!(sol_MA.t, means_SDE[1, :], lw=2, label=\"SDE\", linecolor=:red,\n",
    "      linestyle=:dash, background_color_legend=nothing, legend=:topright, grid=false)"
   ]
  },
  {
   "cell_type": "code",
   "execution_count": null,
   "metadata": {},
   "outputs": [],
   "source": [
    "@variables x₁(t), x₂(t)\n",
    "@parameters k, l, m, g\n",
    "\n",
    "drift_eqs = [D(x₁) ~ x₂;\n",
    "             D(x₂) ~ -k/m*x₂ - g/l*sin(x₁)]\n",
    "diff_eqs = [0; 1/m]\n",
    "\n",
    "pendulum_model = SDESystem(drift_eqs, diff_eqs, t, [x₁, x₂], [k, l, m, g], name = :pendulum)\n",
    "ps = [k => 10, m => 10, l => 10, g => 10]\n",
    "u0map = [x₁ => 3, x₂ => 3]\n",
    "tspan = (0., 15.)"
   ]
  },
  {
   "cell_type": "code",
   "execution_count": null,
   "metadata": {},
   "outputs": [],
   "source": [
    "pendulum_model"
   ]
  },
  {
   "cell_type": "code",
   "execution_count": null,
   "metadata": {},
   "outputs": [],
   "source": [
    "moment_eqs = generate_central_moment_eqs(pendulum_model, 2, 3) \n",
    "latexify(moment_eqs) # the output here is maybe not the most visually pleasing"
   ]
  },
  {
   "cell_type": "code",
   "execution_count": null,
   "metadata": {},
   "outputs": [],
   "source": [
    "closed_eqs = moment_closure(moment_eqs, \"gamma\")\n",
    "\n",
    "oprob = ODEProblem(closed_eqs, u0map, tspan, ps)\n",
    "sol_MA = solve(oprob, Tsit5(), saveat=0.01)\n",
    "\n",
    "prob_SDE = SDEProblem(complete(pendulum_model), u0map, tspan, ps)\n",
    "sol_SDE = solve(EnsembleProblem(prob_SDE), SRIW1(), saveat=0.01, trajectories=100)\n",
    "means_SDE = timeseries_steps_mean(sol_SDE)\n",
    "\n",
    "plot(sol_MA.t, sin.(sol_MA[1, :]), lw=2, label=\"MA\", ylabel=\"sin(⟨x₁⟩)\", xlabel=\"time\")\n",
    "plot!(sol_MA.t, sin.(means_SDE[1, :]), lw=2, label=\"SDE\", linecolor=:red,\n",
    "    linestyle=:dash, background_color_legend=nothing, legend=:topright, grid=false)"
   ]
  }
 ],
 "metadata": {
  "kernelspec": {
   "display_name": "Julia 1.11.4",
   "language": "julia",
   "name": "julia-1.11"
  },
  "language_info": {
   "file_extension": ".jl",
   "mimetype": "application/julia",
   "name": "julia",
   "version": "1.11.4"
  },
  "orig_nbformat": 4
 },
 "nbformat": 4,
 "nbformat_minor": 2
}
