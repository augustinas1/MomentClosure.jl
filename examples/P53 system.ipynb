{
 "cells": [
  {
   "cell_type": "code",
   "execution_count": null,
   "metadata": {},
   "outputs": [],
   "source": [
    "# Loading all the packages we will need\n",
    "using Catalyst, MomentClosure, OrdinaryDiffEq, JumpProcesses, \n",
    "      DiffEqBase.EnsembleAnalysis, Plots\n",
    "using Plots.Measures: mm\n",
    "\n",
    "# → for a mass-action rate\n",
    "# ⇒ for a non mass-action rate \n",
    "rn = @reaction_network begin\n",
    "    @parameters k₁ k₂ k₃ k₄ k₅ k₆ k₇\n",
    "    (k₁), 0 → x\n",
    "    (k₂), x → 0\n",
    "    (k₃*x*y/(x+k₇)), x ⇒ 0\n",
    "    (k₄*x), 0 ⇒ y₀\n",
    "    (k₅), y₀ → y\n",
    "    (k₆), y → 0\n",
    "end"
   ]
  },
  {
   "cell_type": "code",
   "execution_count": null,
   "metadata": {},
   "outputs": [],
   "source": [
    "speciesmap(rn)"
   ]
  },
  {
   "cell_type": "code",
   "execution_count": null,
   "metadata": {},
   "outputs": [],
   "source": [
    "# parameter values [k₁, k₂, k₃, k₄, k₅, k₆, k₇]\n",
    "pmap = [:k₁ => 90, :k₂ => 0.002, :k₃ => 1.7, :k₄ => 1.1, :k₅ => 0.93, :k₆ => 0.96, :k₇ => 0.01]\n",
    "\n",
    "# initial molecule numbers of species [x, y₀, y]\n",
    "u0map = [:x=> 70, :y₀ => 30, :y => 60]\n",
    "\n",
    "# time interval to solve one on\n",
    "tspan = (0., 200.)"
   ]
  },
  {
   "cell_type": "code",
   "execution_count": null,
   "metadata": {
    "scrolled": true
   },
   "outputs": [],
   "source": [
    "jsys = convert(JumpSystem, rn, combinatoric_ratelaws=false)\n",
    "jsys = complete(jsys)\n",
    "dprob = DiscreteProblem(jsys, u0map, tspan, pmap)\n",
    "\n",
    "jprob = JumpProblem(jsys, dprob, Direct(), save_positions=(false, false))\n",
    "ensembleprob  = EnsembleProblem(jprob)\n",
    "\n",
    "@time sol_SSA = solve(ensembleprob, SSAStepper(), saveat=0.2, trajectories=1000);"
   ]
  },
  {
   "cell_type": "code",
   "execution_count": null,
   "metadata": {},
   "outputs": [],
   "source": [
    "#using JLD2 \n",
    "\n",
    "#@save \"sol_SSA_long_run.jld2\" sol_SSA\n",
    "#@load \"sol_SSA_long_run.jld2\" sol_SSA"
   ]
  },
  {
   "cell_type": "code",
   "execution_count": null,
   "metadata": {},
   "outputs": [],
   "source": [
    "# plot single SSA trajectory\n",
    "plot(sol_SSA[666], labels=[\"p53\" \"pre-Mdm2\" \"Mdm2\"], lw=2, tspan=(0, 100),\n",
    "     linecolor=[1 3 2], xlabel=\"Time [h]\", ylabel=\"Number of molecules\", size=(700, 400))"
   ]
  },
  {
   "cell_type": "code",
   "execution_count": null,
   "metadata": {},
   "outputs": [],
   "source": [
    "#savefig(\"../docs/src/assets/p53-Mdm2_single_SSA.svg\")"
   ]
  },
  {
   "cell_type": "code",
   "execution_count": null,
   "metadata": {},
   "outputs": [],
   "source": [
    "# obtain SSA means and variances\n",
    "means_SSA, vars_SSA = timeseries_steps_meanvar(sol_SSA)\n",
    "plot(means_SSA, labels=[\"p53\" \"pre-Mdm2\" \"Mdm2\"], lw=2, linecolor=[1 3 2],\n",
    "     xlabel=\"Time [h]\", ylabel=\"Number of molecules\", size=(700, 400))"
   ]
  },
  {
   "cell_type": "code",
   "execution_count": null,
   "metadata": {},
   "outputs": [],
   "source": [
    "#savefig(\"../docs/src/assets/p53-Mdm2_means_SSA.svg\")"
   ]
  },
  {
   "cell_type": "code",
   "execution_count": null,
   "metadata": {
    "scrolled": false
   },
   "outputs": [],
   "source": [
    "# plot SSA molecule number distributions at t = 25.0\n",
    "data = componentwise_vectors_timepoint(sol_SSA, 25.0)\n",
    "h1 = histogram(data[1], normalize=true, xlabel=\"x\", ylabel=\"P(x)\")\n",
    "h2 = histogram(data[2], normalize=true, xlabel=\"y₀\", ylabel=\"P(y₀)\")\n",
    "h3 = histogram(data[3], normalize=true, xlabel=\"y\", ylabel=\"P(y)\")\n",
    "\n",
    "plot(h1, h2, h3, legend=false, layout=(1,3), size = (1050, 250), guidefontsize=10, left_margin = 5mm, bottom_margin = 7mm)"
   ]
  },
  {
   "cell_type": "code",
   "execution_count": null,
   "metadata": {},
   "outputs": [],
   "source": [
    "#savefig(\"../docs/src/assets/p53-Mdm2_distribution.svg\")"
   ]
  },
  {
   "cell_type": "code",
   "execution_count": null,
   "metadata": {},
   "outputs": [],
   "source": [
    "# unload sol_SSA to save RAM\n",
    "sol_SSA = nothing"
   ]
  },
  {
   "cell_type": "code",
   "execution_count": null,
   "metadata": {},
   "outputs": [],
   "source": [
    "# second-order moment expansion\n",
    "\n",
    "closures = [\"normal\", \"log-normal\", \"gamma\"]\n",
    "\n",
    "# initialise separate plot for each closure\n",
    "plts = [plot() for i in 1:length(closures)]\n",
    "\n",
    "for q in 3:6\n",
    "    println(q)\n",
    "    eqs = generate_central_moment_eqs(rn, 2, q, combinatoric_ratelaws=false)\n",
    "    for (closure, plt) in zip(closures, plts)\n",
    "        println(closure)\n",
    "        closed_eqs = moment_closure(eqs, closure)\n",
    "        oprob = ODEProblem(closed_eqs, u0map, tspan, pmap)\n",
    "        \n",
    "        sol = solve(oprob, Tsit5(), saveat=0.1)\n",
    "        plt = plot!(plt, sol, idxs=[1], lw=2, label  = \"q = \"*string(q))\n",
    "    end\n",
    "end\n",
    "\n",
    "for plt in plts\n",
    "    plt = plot!(plt, xlabel = \"Time [h]\", ylabel = \"Mean number of p53 molecules\")\n",
    "    plt = plot!(plt, means_SSA.t, means_SSA[1,:], lw=2, linestyle=:dash, label = \"SSA\", color=\"gray\")\n",
    "end"
   ]
  },
  {
   "cell_type": "code",
   "execution_count": null,
   "metadata": {},
   "outputs": [],
   "source": [
    "# normal closure\n",
    "plot(plts[1], size=(750, 450), leftmargin=2mm)"
   ]
  },
  {
   "cell_type": "code",
   "execution_count": null,
   "metadata": {},
   "outputs": [],
   "source": [
    "#savefig(\"../docs/src/assets/p53-Mdm2_normal_2nd_order.svg\")"
   ]
  },
  {
   "cell_type": "code",
   "execution_count": null,
   "metadata": {},
   "outputs": [],
   "source": [
    "# zoom-in on the initial dampening\n",
    "plot(plts[1], xlims=(0., 40.))"
   ]
  },
  {
   "cell_type": "code",
   "execution_count": null,
   "metadata": {},
   "outputs": [],
   "source": [
    "# log-normal closure\n",
    "plot(plts[2], leftmargin=2mm, size=(750, 450))"
   ]
  },
  {
   "cell_type": "code",
   "execution_count": null,
   "metadata": {},
   "outputs": [],
   "source": [
    "#savefig(\"../docs/src/assets/p53-Mdm2_log-normal_2nd_order.svg\")"
   ]
  },
  {
   "cell_type": "code",
   "execution_count": null,
   "metadata": {},
   "outputs": [],
   "source": [
    "plot(plts[2], xlims=(0., 50.), lw=3)"
   ]
  },
  {
   "cell_type": "code",
   "execution_count": null,
   "metadata": {},
   "outputs": [],
   "source": [
    "#savefig(\"../docs/src/assets/p53-Mdm2_log-normal_2nd_order_ZOOM.svg\")"
   ]
  },
  {
   "cell_type": "code",
   "execution_count": null,
   "metadata": {},
   "outputs": [],
   "source": [
    "# gamma closure\n",
    "plot(plts[3], size=(750, 450), leftmargin=2mm)"
   ]
  },
  {
   "cell_type": "code",
   "execution_count": null,
   "metadata": {},
   "outputs": [],
   "source": [
    "#savefig(\"../docs/src/assets/p53-Mdm2_gamma_2nd_order.svg\")"
   ]
  },
  {
   "cell_type": "code",
   "execution_count": null,
   "metadata": {},
   "outputs": [],
   "source": [
    "plot(plts[3], xlims=(0., 40.), lw=3)"
   ]
  },
  {
   "cell_type": "code",
   "execution_count": null,
   "metadata": {},
   "outputs": [],
   "source": [
    "# simply rerunning the same calculations for variance as they are quite fast\n",
    "plt = plot()\n",
    "\n",
    "for q in [4,6]\n",
    "    println(q)\n",
    "    eqs = generate_central_moment_eqs(rn, 2, q, combinatoric_ratelaws=false)\n",
    "    for closure in closures\n",
    "        println(closure)\n",
    "        closed_eqs = moment_closure(eqs, closure)\n",
    "        oprob = ODEProblem(closed_eqs, u0map, tspan, pmap)\n",
    "        sol = solve(oprob, Tsit5(), saveat=0.1)\n",
    "        # index of M₂₀₀ can be checked with `unknowns(closed_eqs)`\n",
    "        plt = plot!(plt, sol, idxs=[4], lw=2, label  = closure*\" q = \"*string(q))\n",
    "    end\n",
    "end\n",
    "\n",
    "plt = plot!(plt, xlabel = \"Time [h]\", ylabel = \"Variance of p53 molecule number\", legend=:topleft)\n",
    "plt = plot!(plt, means_SSA.t, vars_SSA[1,:], lw=2, linestyle=:dash, label = \"SSA\", color=\"gray\")\n",
    "plot(plt, size=(750, 450))"
   ]
  },
  {
   "cell_type": "code",
   "execution_count": null,
   "metadata": {},
   "outputs": [],
   "source": [
    "#savefig(\"../docs/src/assets/p53-Mdm2_variances_2nd_order.svg\")"
   ]
  },
  {
   "cell_type": "code",
   "execution_count": null,
   "metadata": {},
   "outputs": [],
   "source": [
    "# checking whether third-order moment expansion with odd q values is unstable (answer: yes it is)\n",
    "eqs = generate_central_moment_eqs(rn, 3, 5, combinatoric_ratelaws=false)\n",
    "closed_eqs = moment_closure(eqs, \"log-normal\")\n",
    "oprob = ODEProblem(closed_eqs, u0map, tspan, pmap)\n",
    "\n",
    "sol = solve(oprob, Tsit5(), saveat=0.1)\n",
    "plot(sol, vars=(0, 1), lw=3)"
   ]
  },
  {
   "cell_type": "code",
   "execution_count": null,
   "metadata": {},
   "outputs": [],
   "source": [
    "closures = [\"zero\", \"normal\", \"log-normal\", \"gamma\"]\n",
    "\n",
    "plt_means = [plot() for i in 1:2]\n",
    "plt_vars  = [plot() for i in 1:2]\n",
    "\n",
    "m = 3\n",
    "q_vals = [4, 6]\n",
    "\n",
    "for (q, plt_m, plt_v) in zip(q_vals, plt_means, plt_vars)\n",
    "\n",
    "    eqs = generate_central_moment_eqs(rn, m, q, combinatoric_ratelaws=false)\n",
    "    for closure in closures\n",
    "        println(closure)\n",
    "        closed_eqs = moment_closure(eqs, closure)\n",
    "        oprob = ODEProblem(closed_eqs, u0map, tspan, pmap)\n",
    "\n",
    "        sol = solve(oprob, Tsit5(), saveat=0.1)\n",
    "        plt_m = plot!(plt_m, sol, vars=(0, 1), label = closure)    \n",
    "        plt_v = plot!(plt_v, sol, vars=(0, 4), label = closure)\n",
    "\n",
    "    end\n",
    "\n",
    "    plt_m = plot!(plt_m, means_SSA.t, means_SSA[1,:], title=\"m = \"*string(m)*\", q = \"*string(q),\n",
    "                  linestyle=:dash, label = \"SSA\", color=\"gray\", legend=false)\n",
    "\n",
    "    plt_v = plot!(plt_v, vars_SSA.t, vars_SSA[1,:], linestyle=:dash, label = \"SSA\", color=\"gray\", legend=false)\n",
    "\n",
    "end\n",
    "\n",
    "plt_means[1] = plot(plt_means[1], ylabel = \"Mean p53 molecule number\")\n",
    "plt_vars[1] = plot(plt_vars[1], ylabel = \"Variance of p53 molecule number\", legend=:topleft)\n",
    "plot(plt_means..., plt_vars..., size=(1250, 750), lw=1.5, xlabel=\"Time [h]\",\n",
    "     guidefontsize=10, titlefontsize=12, legendfontsize=8, leftmargin=4mm, bottommargin=2mm)"
   ]
  },
  {
   "cell_type": "code",
   "execution_count": null,
   "metadata": {},
   "outputs": [],
   "source": [
    "#savefig(\"../docs/src/assets/p53-Mdm2_3rd_order_expansion.svg\")"
   ]
  },
  {
   "cell_type": "code",
   "execution_count": null,
   "metadata": {
    "scrolled": false
   },
   "outputs": [],
   "source": [
    "# checking the trajectories using the QNDF (or ode15s) solve which is the default MEANS solver\n",
    "# slight differences remaning between the trajectory obtained here and the one obtained using MEANS\n",
    "# indicate that the difference lies in the implementation (inclusion of higher-order moment \n",
    "# information in the closure functions)\n",
    "\n",
    "eqs = generate_central_moment_eqs(rn, 3, 4, combinatoric_ratelaws=false)\n",
    "closed_eqs = moment_closure(eqs, \"log-normal\")\n",
    "oprob = ODEProblem(closed_eqs, u0map, tspan, pmap)\n",
    "\n",
    "sol = solve(oprob, QNDF(), saveat=0.1)\n",
    "plot(sol, vars=(0, 1), lw=3)"
   ]
  },
  {
   "cell_type": "code",
   "execution_count": null,
   "metadata": {},
   "outputs": [],
   "source": [
    "plt = plot()\n",
    "closures = [\"zero\", \"normal\", \"log-normal\", \"gamma\"]\n",
    "\n",
    "eqs = generate_central_moment_eqs(rn, 5, 6, combinatoric_ratelaws=false)\n",
    "# faster to store than recompute in case we want to try different solvers/params\n",
    "oprobs = Dict() \n",
    "\n",
    "for closure in closures\n",
    "    println(closure)\n",
    "    closed_eqs = moment_closure(eqs, closure)\n",
    "    oprobs[closure] = ODEProblem(closed_eqs, u0map, tspan, pmap)\n",
    "    sol = solve(oprobs[closure], Tsit5(), saveat=0.1)\n",
    "\n",
    "    plt = plot!(plt, sol, vars=(0, 1), label = closure)    \n",
    "end\n",
    "\n",
    "plt = plot!(plt, xlabel = \"Time [h]\", ylabel = \"Mean p53 molecule number\")\n",
    "plt = plot!(plt, means_SSA.t, means_SSA[1, :], linestyle=:dash, label = \"SSA\", color=\"gray\")\n",
    "plot(plt, size=(750, 450), lw=2, xlims=tspan)"
   ]
  },
  {
   "cell_type": "code",
   "execution_count": null,
   "metadata": {},
   "outputs": [],
   "source": [
    "#savefig(\"../docs/src/assets/p53-Mdm2_5th_order_expansion.svg\")"
   ]
  },
  {
   "cell_type": "code",
   "execution_count": null,
   "metadata": {},
   "outputs": [],
   "source": [
    "# obtain both means and variances for fifth order moment expansion\n",
    "#=\n",
    "plt_m = plot()\n",
    "plt_v = plot()\n",
    "\n",
    "closures = [\"zero\", \"normal\", \"log-normal\", \"gamma\"]\n",
    "\n",
    "eqs = generate_central_moment_eqs(rn, 5, 6, combinatoric_ratelaw=false)\n",
    "# faster to store than recompute in case we want to try different solvers/params\n",
    "oprobs = Dict() \n",
    "\n",
    "for closure in closures\n",
    "    println(closure)\n",
    "    closed_eqs = moment_closure(eqs, closure)\n",
    "\n",
    "    u₀map = deterministic_IC(u₀, closed_eqs) \n",
    "    oprobs[closure] = ODEProblem(closed_eqs, u₀map, tspan, p)\n",
    "    sol = solve(oprobs[closure], Tsit5(), saveat=0.1)\n",
    "\n",
    "    plt_m = plot!(plt_m, sol, vars=(0, 1), label = closure)    \n",
    "    plt_v = plot!(plt_v, sol, vars=(0, 4), label = closure)\n",
    "end\n",
    "\n",
    "plt_m = plot!(plt_m, xlabel = \"Time [h]\", ylabel = \"Mean p53 molecule number\", legend=false)\n",
    "plt_m = plot!(plt_m, means_SSA.t, means_SSA[1, :], linestyle=:dash, label = \"SSA\", color=\"gray\")\n",
    "\n",
    "plt_v = plot!(plt_v, xlabel = \"Time [h]\", ylabel = \"Variance of p53 molecule number\", legend=:bottomleft)\n",
    "plt_v = plot!(plt_v, vars_SSA.t, vars_SSA[1, :], linestyle=:dash, label = \"SSA\", color=\"gray\")\n",
    "plot(plt_m, plt_v, size=(1200, 400), lw=2, leftmargin=5mm, bottommargin=5mm, guidefontsize=10, legendfontsize=10)\n",
    "=#"
   ]
  },
  {
   "cell_type": "code",
   "execution_count": null,
   "metadata": {},
   "outputs": [],
   "source": [
    "#=\n",
    "plt_m = plot(xlabel = \"Time [h]\", ylabel = \"Mean p53 molecule number\")\n",
    "for closure in closures\n",
    "    oprob_long = remake(oprobs[closure], tspan=(0., 150.))\n",
    "    sol = solve(oprob_long, Tsit5(), saveat=0.1)\n",
    "    plt_m = plot!(plt_m, sol, vars=(0,1), label=closure)\n",
    "end\n",
    "plot(plt_m, lw=2)\n",
    "=#"
   ]
  }
 ],
 "metadata": {
  "kernelspec": {
   "display_name": "Julia 1.11.4",
   "language": "julia",
   "name": "julia-1.11"
  },
  "language_info": {
   "file_extension": ".jl",
   "mimetype": "application/julia",
   "name": "julia",
   "version": "1.11.4"
  }
 },
 "nbformat": 4,
 "nbformat_minor": 4
}
