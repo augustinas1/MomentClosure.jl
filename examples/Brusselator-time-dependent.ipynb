{
 "cells": [
  {
   "cell_type": "code",
   "execution_count": null,
   "metadata": {},
   "outputs": [],
   "source": [
    "using Catalyst, MomentClosure, Latexify\n",
    "\n",
    "rn = @reaction_network begin\n",
    "  @parameters c₁ c₂ c₃ c₄ Ω ω τ\n",
    "  (c₁/Ω^2), 2X + Y → 3X\n",
    "  (c₂*(1+0.5*sin(ω*(t<τ)*t))), X → Y\n",
    "  (c₃*Ω, c₄), 0 ↔ X\n",
    "end\n",
    "\n",
    "raw_eqs = generate_raw_moment_eqs(rn, 2, combinatoric_ratelaws=false)\n",
    "latexify(raw_eqs)"
   ]
  },
  {
   "cell_type": "code",
   "execution_count": null,
   "metadata": {},
   "outputs": [],
   "source": [
    "println(latexify(raw_eqs))"
   ]
  },
  {
   "cell_type": "code",
   "execution_count": null,
   "metadata": {},
   "outputs": [],
   "source": [
    "using OrdinaryDiffEq, Plots\n",
    "\n",
    "closed_raw_eqs = moment_closure(raw_eqs, \"normal\")\n",
    "\n",
    "# parameter values [c₁, c₂, c₃, c₄, Ω, ω, τ]\n",
    "p = [:c₁ => 0.9, :c₂ => 2., :c₃ => 1., :c₄ => 1., :Ω => 5., :ω => 1., :τ => 40.]\n",
    "\n",
    "# initial molecule numbers of species [X, Y]\n",
    "u₀ = [1., 1.]\n",
    "\n",
    "# deterministic initial conditions\n",
    "u₀map = deterministic_IC(u₀, closed_raw_eqs)\n",
    "\n",
    "# time interval to solve one on\n",
    "tspan = (0., 100.)\n",
    "\n",
    "# convert the closed raw moment equations into a DifferentialEquations ODEProblem\n",
    "oprob = ODEProblem(closed_raw_eqs, u₀map, tspan, p)\n",
    "\n",
    "# solve using Tsit5() solver\n",
    "sol = solve(oprob, Tsit5(), saveat=0.2)\n",
    "plot(sol, idxs=[1,2], lw=2)"
   ]
  },
  {
   "cell_type": "code",
   "execution_count": null,
   "metadata": {},
   "outputs": [],
   "source": [
    "#savefig(\"Brusselator_time-dependent_normal.svg\")"
   ]
  },
  {
   "cell_type": "code",
   "execution_count": null,
   "metadata": {},
   "outputs": [],
   "source": [
    "using JumpProcesses\n",
    "\n",
    "jinputs = JumpInputs(rn, u₀, tspan, p, combinatoric_ratelaws=false)\n",
    "jprob = JumpProblem(jinputs, Direct())"
   ]
  },
  {
   "cell_type": "code",
   "execution_count": null,
   "metadata": {},
   "outputs": [],
   "source": [
    "# timestep at which the solution data is saved\n",
    "dt = 0.2\n",
    "# the corresponding time iterator (0:0.2:100 in our case)\n",
    "ts = tspan[1]:dt:tspan[2]\n",
    "# save data for each trajectory only at the specified timepoints (interpolating the ODESolution)\n",
    "fout = (sol, i) -> (sol(ts), false)\n",
    "ensembleprob  = EnsembleProblem(jprob, output_func=fout)\n",
    "\n",
    "# simulate 10000 SSA trajectories (can get very slow...)\n",
    "@time sol_SSA = solve(ensembleprob, Tsit5(), trajectories=10000);"
   ]
  },
  {
   "cell_type": "code",
   "execution_count": null,
   "metadata": {},
   "outputs": [],
   "source": [
    "using SciMLBase.EnsembleAnalysis\n",
    "\n",
    "means_SSA = timeseries_steps_mean(sol_SSA)\n",
    "plot!(means_SSA.t, [means_SSA[1,:], means_SSA[2,:]], lw=1.5, labels=[\"SSA μ₁₀\" \"SSA μ₀₁\"], linestyle=:dash,\n",
    "      linecolor=[1 2], background_color_legend=nothing, legend=:bottomright)"
   ]
  },
  {
   "cell_type": "code",
   "execution_count": null,
   "metadata": {},
   "outputs": [],
   "source": [
    "#savefig(\"Brusselator_time-dependent_SSA.svg\")"
   ]
  }
 ],
 "metadata": {
  "kernelspec": {
   "display_name": "Julia 1.11.4",
   "language": "julia",
   "name": "julia-1.11"
  },
  "language_info": {
   "file_extension": ".jl",
   "mimetype": "application/julia",
   "name": "julia",
   "version": "1.11.4"
  }
 },
 "nbformat": 4,
 "nbformat_minor": 4
}
