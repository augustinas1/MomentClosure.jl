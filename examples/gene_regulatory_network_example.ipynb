{
 "cells": [
  {
   "cell_type": "code",
   "execution_count": null,
   "metadata": {},
   "outputs": [],
   "source": [
    "using MomentClosure, Catalyst, Distributions, JumpProcesses, DiffEqBase, OrdinaryDiffEq, DiffEqBase.EnsembleAnalysis, Plots, Latexify"
   ]
  },
  {
   "cell_type": "code",
   "execution_count": null,
   "metadata": {},
   "outputs": [],
   "source": [
    "# Proteins are produced in bursts of size m,\n",
    "# where m is a geometric random variable with mean b.\n",
    "# Note that if b is the mean burst size, then p = 1/(1+b).\n",
    "# Implemented by first registering the distribution with Symbolics\n",
    "@register_symbolic Distributions.Geometric(b)\n",
    "@parameters b\n",
    "m = rand(Distributions.Geometric(1/(1+b)))\n",
    "\n",
    "rn = @reaction_network begin\n",
    "      @parameters k_on k_off k_p γ_p\n",
    "      k_on*(1-g), 0 --> g  # G* -> G\n",
    "      k_off*P^2, g --> 0   # G -> G*\n",
    "      k_p, g --> g + $m*P  # G -> G + mP, m ~ Geometric(p)\n",
    "      γ_p, P --> 0         # P -> ∅\n",
    "end"
   ]
  },
  {
   "cell_type": "code",
   "execution_count": null,
   "metadata": {},
   "outputs": [],
   "source": [
    "eqs = generate_raw_moment_eqs(rn, 3)\n",
    "latexify(eqs)"
   ]
  },
  {
   "cell_type": "code",
   "execution_count": null,
   "metadata": {},
   "outputs": [],
   "source": [
    "println(latexify(eqs))"
   ]
  },
  {
   "cell_type": "code",
   "execution_count": null,
   "metadata": {},
   "outputs": [],
   "source": [
    "@parameters p\n",
    "m = rand(Distributions.Geometric(p))\n",
    "\n",
    "rn = @reaction_network begin\n",
    "    @parameters k_on k_off k_p γ_p\n",
    "    k_on*(1-g), 0 --> g\n",
    "    k_off*P^2, g --> 0\n",
    "    k_p, g --> g + $m*P\n",
    "    γ_p, P --> 0\n",
    "end\n",
    "\n",
    "eqs = generate_raw_moment_eqs(rn, 3)\n",
    "latexify(eqs)"
   ]
  },
  {
   "cell_type": "code",
   "execution_count": null,
   "metadata": {},
   "outputs": [],
   "source": [
    "println(latexify(eqs))"
   ]
  },
  {
   "cell_type": "code",
   "execution_count": null,
   "metadata": {},
   "outputs": [],
   "source": [
    "# specify the indices of species which molecule numbers are binary\n",
    "binary_vars = [1]\n",
    "# simplify the moment equations using properties of Bernoulli variables\n",
    "clean_eqs = bernoulli_moment_eqs(eqs, binary_vars)\n",
    "latexify(clean_eqs)"
   ]
  },
  {
   "cell_type": "code",
   "execution_count": null,
   "metadata": {},
   "outputs": [],
   "source": [
    "println(latexify(clean_eqs))"
   ]
  },
  {
   "cell_type": "code",
   "execution_count": null,
   "metadata": {},
   "outputs": [],
   "source": [
    "normal_eqs = moment_closure(eqs, \"normal\", binary_vars)\n",
    "latexify(normal_eqs, :closure)"
   ]
  },
  {
   "cell_type": "code",
   "execution_count": null,
   "metadata": {},
   "outputs": [],
   "source": [
    "println(latexify(normal_eqs, :closure))"
   ]
  },
  {
   "cell_type": "code",
   "execution_count": null,
   "metadata": {},
   "outputs": [],
   "source": [
    "dm_eqs = moment_closure(eqs, \"derivative matching\", binary_vars)\n",
    "latexify(dm_eqs, :closure)"
   ]
  },
  {
   "cell_type": "code",
   "execution_count": null,
   "metadata": {},
   "outputs": [],
   "source": [
    "println(latexify(dm_eqs, :closure))"
   ]
  },
  {
   "cell_type": "code",
   "execution_count": null,
   "metadata": {},
   "outputs": [],
   "source": [
    "cond_gaussian_eqs = moment_closure(eqs, \"conditional gaussian\", binary_vars)\n",
    "latexify(cond_gaussian_eqs, :closure)"
   ]
  },
  {
   "cell_type": "code",
   "execution_count": null,
   "metadata": {},
   "outputs": [],
   "source": [
    "println(latexify(cond_gaussian_eqs, :closure))"
   ]
  },
  {
   "cell_type": "code",
   "execution_count": null,
   "metadata": {},
   "outputs": [],
   "source": [
    "cond_dm_eqs = moment_closure(eqs, \"conditional derivative matching\", binary_vars)\n",
    "latexify(cond_dm_eqs, :closure)"
   ]
  },
  {
   "cell_type": "code",
   "execution_count": null,
   "metadata": {},
   "outputs": [],
   "source": [
    "println(latexify(dm_eqs, :closure))"
   ]
  },
  {
   "cell_type": "code",
   "execution_count": null,
   "metadata": {},
   "outputs": [],
   "source": [
    "# PARAMETER INITIALISATION\n",
    "mean_p = 200\n",
    "mean_b = 70\n",
    "p_val = 1/(1+mean_b)\n",
    "γ_p_val = 1\n",
    "k_off_val = 0.001\n",
    "k_on_val = 0.05\n",
    "\n",
    "k_p_val = mean_p * γ_p_val * (k_off_val * mean_p^2 + k_on_val) / (k_on_val * mean_b)\n",
    "\n",
    "pmap = [:k_on => k_on_val,\n",
    "          :k_off => k_off_val,\n",
    "          :k_p => k_p_val,\n",
    "          :γ_p => γ_p_val,\n",
    "          :p => p_val]\n",
    "\n",
    "u₀ = [1, 1]\n",
    "\n",
    "tspan = (0., 6.0);"
   ]
  },
  {
   "cell_type": "code",
   "execution_count": null,
   "metadata": {},
   "outputs": [],
   "source": [
    "# convert the reaction network into a system of jump processes\n",
    "jsys = convert(JumpSystem, rn; combinatoric_ratelaws=false)\n",
    "jsys = complete(jsys)\n",
    "\n",
    "# create a discrete problem setting the simulation parameters\n",
    "dprob = DiscreteProblem(jsys, u₀, tspan, pmap)\n",
    "\n",
    "# create a JumpProblem compatible with ReactionSystemMod\n",
    "jprob = JumpProblem(jsys, dprob, Direct(), save_positions=(false, false))\n",
    "\n",
    "# simulate 2×10⁴ SSA trajectories\n",
    "ensembleprob  = EnsembleProblem(jprob)\n",
    "@time sol_SSA = solve(ensembleprob, SSAStepper(), saveat=0.1, trajectories=20000)\n",
    "# compute the means and variances\n",
    "means_ssa, vars_ssa = timeseries_steps_meanvar(sol_SSA);"
   ]
  },
  {
   "cell_type": "code",
   "execution_count": null,
   "metadata": {},
   "outputs": [],
   "source": [
    "plt_m = plot()   # plot mean protein number\n",
    "plt_std = plot() # plot ssd of protein number\n",
    "\n",
    "# construct the initial molecule number mapping\n",
    "u₀map = deterministic_IC(u₀, dm_eqs)\n",
    "\n",
    "# solve moment ODEs for each closure and plot the results\n",
    "for closure in [\"normal\", \"derivative matching\", \n",
    "                \"conditional gaussian\", \"conditional derivative matching\"]\n",
    "    \n",
    "    # it is very quick so we just apply all closures again\n",
    "    closed_eqs = moment_closure(eqs, closure, binary_vars)\n",
    "    \n",
    "    # solve the system of moment ODEs\n",
    "    oprob = ODEProblem(closed_eqs, u₀map, tspan, pmap)\n",
    "    sol = solve(oprob, AutoTsit5(Rosenbrock23()), saveat=0.01)\n",
    "    \n",
    "    # μ₀₁ is 2nd and μ₀₂ is 4th element in sol\n",
    "    plt_m = plot!(plt_m, sol, idxs=[2], label=closure)\n",
    "    plt_std = plot!(plt_std, sol.t, sqrt.(sol[4, :] .- sol[2, :].^2), label=closure)\n",
    "    \n",
    "end\n",
    "\n",
    "plt_m = plot!(plt_m, xlabel=\"Time [hr]\", ylabel=\"Protein mean level\")\n",
    "plt_m = plot!(plt_m, means_ssa.t, means_ssa[2,:], label=\"SSA\", linestyle=:dash, color=\"gray\")\n",
    "plt_std = plot!(plt_std, xlabel=\"Time [hr]\", ylabel=\"Protein standard deviation\")\n",
    "plt_std = plot!(plt_std, vars_ssa.t, sqrt.(vars_ssa[2,:]), label=\"SSA\", linestyle=:dash, color=\"gray\");"
   ]
  },
  {
   "cell_type": "code",
   "execution_count": null,
   "metadata": {
    "scrolled": false
   },
   "outputs": [],
   "source": [
    "plot(plt_m, lw=2)"
   ]
  },
  {
   "cell_type": "code",
   "execution_count": null,
   "metadata": {},
   "outputs": [],
   "source": [
    "#savefig(\"../docs/src/assets/gene_1_means.svg\")"
   ]
  },
  {
   "cell_type": "code",
   "execution_count": null,
   "metadata": {},
   "outputs": [],
   "source": [
    "plot(plt_std, lw=2)"
   ]
  },
  {
   "cell_type": "code",
   "execution_count": null,
   "metadata": {},
   "outputs": [],
   "source": [
    "#savefig(\"../docs/src/assets/gene_1_stds.svg\")"
   ]
  },
  {
   "cell_type": "code",
   "execution_count": null,
   "metadata": {},
   "outputs": [],
   "source": [
    "@register_symbolic Distributions.Geometric(b)\n",
    "@parameters b_x b_y\n",
    "m = rand(Distributions.Geometric(1/(1+b_x)))\n",
    "l = rand(Distributions.Geometric(1/(1+b_y)))\n",
    "\n",
    "rn = @reaction_network begin\n",
    "    @parameters kx_on kx_off ky_on ky_off k_x γ_x k_y γ_y\n",
    "    kx_on*(1-g_x)*y, 0 --> g_x  # 0   -> g_x\n",
    "    kx_off,          g_x --> 0  # g_x -> 0\n",
    "    ky_on*(1-g_y),   0 --> g_y  # 0 -> g_y\n",
    "    ky_off*x,        g_y --> 0  # g_y -> 0\n",
    "    k_x*g_x,         0 --> $m*x # 0 -> mx, m ~ Geometric(mean=b_x)\n",
    "    γ_x,             x --> 0    # x -> 0\n",
    "    k_y*g_y,         0 --> $l*y # 0 -> ly, l ~ Geometric(mean_b_y)\n",
    "    γ_y,             y --> 0    # y -> 0\n",
    "end\n",
    "\n",
    "# both g_x and g_y are Bernoulli random variables\n",
    "binary_vars = [1, 2];"
   ]
  },
  {
   "cell_type": "code",
   "execution_count": null,
   "metadata": {},
   "outputs": [],
   "source": [
    "# Parameter initialisation\n",
    "\n",
    "mean_x = 100\n",
    "mean_y = 100\n",
    "mean_b_x = 5\n",
    "mean_b_y = 5\n",
    "γ_x_val = 1\n",
    "γ_y_val = 1\n",
    "kx_off_val = 4\n",
    "ky_on_val = 0.3\n",
    "kx_on_val = 0.05\n",
    "ky_off_val = 0.05\n",
    "\n",
    "k_x_val = mean_x * γ_x_val * (kx_off_val * mean_y^2 + kx_on_val) / (kx_on_val * mean_b_x)\n",
    "k_y_val = mean_y * γ_y_val * (ky_off_val * mean_x^2 + ky_on_val) / (ky_on_val * mean_b_y)\n",
    "\n",
    "# unclear if Soltani et al. (2015) actually used this parameter set as X numbers jump to millions\n",
    "# making SSA extremely slow...\n",
    "\n",
    "# introduce additional rescaling (otherwise rate coefficients are too high)\n",
    "k_x_val *= 0.00003\n",
    "k_y_val *= 0.01\n",
    "\n",
    "# parameter mapping\n",
    "pmap = [:kx_on => kx_on_val,\n",
    "          :kx_off => kx_off_val,\n",
    "          :ky_on => ky_on_val,\n",
    "          :ky_off => ky_off_val,\n",
    "          :k_x => k_x_val,\n",
    "          :k_y => k_y_val,\n",
    "          :γ_x => γ_x_val,\n",
    "          :γ_y => γ_y_val,\n",
    "          :b_x => mean_b_x,\n",
    "          :b_y => mean_b_y]\n",
    "\n",
    "# initial gene state and protein number, order [g_x, g_y, x, y]\n",
    "u₀ = [1, 1, 1, 1]\n",
    "\n",
    "# time interval to solve on\n",
    "tspan = (0., 12.0);"
   ]
  },
  {
   "cell_type": "code",
   "execution_count": null,
   "metadata": {},
   "outputs": [],
   "source": [
    "eqs = generate_raw_moment_eqs(rn, 4);"
   ]
  },
  {
   "cell_type": "code",
   "execution_count": null,
   "metadata": {
    "scrolled": false
   },
   "outputs": [],
   "source": [
    "# can compare to results in Soltani et al. (2015)\n",
    "closed_eqs = moment_closure(eqs, \"derivative matching\", binary_vars)\n",
    "latexify(closed_eqs, :closure)"
   ]
  },
  {
   "cell_type": "code",
   "execution_count": null,
   "metadata": {},
   "outputs": [],
   "source": [
    "closed_eqs = moment_closure(eqs, \"conditional derivative matching\", binary_vars)\n",
    "latexify(closed_eqs, :closure)"
   ]
  },
  {
   "cell_type": "code",
   "execution_count": null,
   "metadata": {},
   "outputs": [],
   "source": [
    "closed_eqs = moment_closure(eqs, \"normal\", binary_vars)\n",
    "latexify(closed_eqs, :closure); # very long"
   ]
  },
  {
   "cell_type": "code",
   "execution_count": null,
   "metadata": {},
   "outputs": [],
   "source": [
    "closed_eqs = moment_closure(eqs, \"conditional gaussian\", binary_vars)\n",
    "latexify(closed_eqs, :closure)"
   ]
  },
  {
   "cell_type": "code",
   "execution_count": null,
   "metadata": {
    "scrolled": false
   },
   "outputs": [],
   "source": [
    "using Sundials # for CVODE_BDF\n",
    "\n",
    "closed_eqs = moment_closure(eqs, \"normal\", binary_vars)\n",
    "u₀map = deterministic_IC(u₀, closed_eqs)\n",
    "\n",
    "oprob = ODEProblem(closed_eqs, u₀map, tspan, pmap)\n",
    "sol = solve(oprob, CVODE_BDF(), saveat=0.1);"
   ]
  },
  {
   "cell_type": "code",
   "execution_count": null,
   "metadata": {},
   "outputs": [],
   "source": [
    "closed_eqs = moment_closure(eqs, \"conditional gaussian\", binary_vars)\n",
    "u₀map = deterministic_IC(u₀, closed_eqs)\n",
    "\n",
    "oprob = ODEProblem(closed_eqs, u₀map, tspan, pmap)\n",
    "sol = solve(oprob, CVODE_BDF(), saveat=0.1);"
   ]
  },
  {
   "cell_type": "code",
   "execution_count": null,
   "metadata": {},
   "outputs": [],
   "source": [
    "jsys = convert(JumpSystem, rn, combinatoric_ratelaws=false)\n",
    "jsys = complete(jsys)\n",
    "dprob = DiscreteProblem(jsys, u₀, tspan, pmap)\n",
    "jprob = JumpProblem(jsys, dprob, Direct(), save_positions=(false, false))\n",
    "\n",
    "ensembleprob  = EnsembleProblem(jprob)\n",
    "@time sol_SSA = solve(ensembleprob, SSAStepper(), saveat=0.1, trajectories=10000)\n",
    "means_ssa, vars_ssa = timeseries_steps_meanvar(sol_SSA);"
   ]
  },
  {
   "cell_type": "code",
   "execution_count": null,
   "metadata": {},
   "outputs": [],
   "source": [
    "plt_m = plot()   # plot mean activator protein number\n",
    "plt_std = plot() # plot ssd of activator protein number\n",
    "\n",
    "for closure in [\"derivative matching\", \"conditional derivative matching\"]\n",
    "\n",
    "    closed_eqs = moment_closure(eqs, closure, binary_vars)\n",
    "\n",
    "    u₀map = deterministic_IC(u₀, closed_eqs)\n",
    "    oprob = ODEProblem(closed_eqs, u₀map, tspan, pmap)\n",
    "    sol = solve(oprob, Tsit5(), saveat=0.1)\n",
    "\n",
    "    # μ₀₀₀₁ is the 4th and μ₀₀₀₂ is the 12th element in sol (can check with closed_eqs.odes.states)\n",
    "    plt_m = plot!(plt_m, sol, vars=(0, 4), label=closure)\n",
    "    plt_std = plot!(plt_std, sol.t, sqrt.(sol[12, :] .- sol[4, :].^2), label=closure)\n",
    "end\n",
    "\n",
    "plt_m = plot!(plt_m, xlabel=\"Time [hr]\", ylabel=\"Activator mean level\")\n",
    "plt_m = plot!(plt_m, means_ssa.t, means_ssa[4,:], label=\"SSA\", linestyle=:dash, color=\"gray\")\n",
    "plt_std = plot!(plt_std, xlabel=\"Time [hr]\", ylabel=\"Activator standard deviation\")\n",
    "plt_std = plot!(plt_std, vars_ssa.t, sqrt.(vars_ssa[4,:]), label=\"SSA\", linestyle=:dash, color=\"gray\");"
   ]
  },
  {
   "cell_type": "code",
   "execution_count": null,
   "metadata": {},
   "outputs": [],
   "source": [
    "plot(plt_m, lw=2)"
   ]
  },
  {
   "cell_type": "code",
   "execution_count": null,
   "metadata": {},
   "outputs": [],
   "source": [
    "#savefig(\"../docs/src/assets/gene_2_means.svg\")"
   ]
  },
  {
   "cell_type": "code",
   "execution_count": null,
   "metadata": {},
   "outputs": [],
   "source": [
    "plot(plt_std, lw=2, xlims=(0., 12.))"
   ]
  },
  {
   "cell_type": "code",
   "execution_count": null,
   "metadata": {},
   "outputs": [],
   "source": [
    "#savefig(\"../docs/src/assets/gene_2_stds.svg\")"
   ]
  }
 ],
 "metadata": {
  "kernelspec": {
   "display_name": "Julia 1.11.4",
   "language": "julia",
   "name": "julia-1.11"
  },
  "language_info": {
   "file_extension": ".jl",
   "mimetype": "application/julia",
   "name": "julia",
   "version": "1.11.4"
  }
 },
 "nbformat": 4,
 "nbformat_minor": 4
}
