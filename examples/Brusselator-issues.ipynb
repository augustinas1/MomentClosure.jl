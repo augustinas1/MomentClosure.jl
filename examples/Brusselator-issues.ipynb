{
 "cells": [
  {
   "cell_type": "markdown",
   "metadata": {},
   "source": [
    "# Unphysical trajectories and numerical instabilities - Brusselator case"
   ]
  },
  {
   "cell_type": "code",
   "execution_count": null,
   "metadata": {
    "scrolled": true
   },
   "outputs": [],
   "source": [
    "using MomentClosure, Catalyst, OrdinaryDiffEq, Plots\n",
    "\n",
    "rn = @reaction_network begin\n",
    "  @parameters c₁ c₂ c₃ c₄ Ω\n",
    "  (c₁/Ω^2), 2X + Y → 3X\n",
    "  (c₂), X → Y\n",
    "  (c₃*Ω, c₄), 0 ↔ X\n",
    "end\n",
    "\n",
    "p = [:c₁ => 0.9, :c₂ => 2, :c₃ => 1, :c₄ => 1, :Ω => 100]\n",
    "u₀ = [1, 1]\n",
    "tspan = (0., 100.)\n",
    "\n",
    "raw_eqs = generate_raw_moment_eqs(rn, 2, combinatoric_ratelaws=false)"
   ]
  },
  {
   "cell_type": "code",
   "execution_count": null,
   "metadata": {},
   "outputs": [],
   "source": [
    "closed_raw_eqs = moment_closure(raw_eqs, \"zero\")\n",
    "\n",
    "u₀map = deterministic_IC(u₀, closed_raw_eqs)\n",
    "oprob = ODEProblem(closed_raw_eqs, u₀map, tspan, p)\n",
    "sol = solve(oprob, Tsit5(), saveat=0.1)\n",
    "\n",
    "plot(sol, idxs=[1,2], lw=2)"
   ]
  },
  {
   "cell_type": "code",
   "execution_count": null,
   "metadata": {},
   "outputs": [],
   "source": [
    "closed_raw_eqs = moment_closure(raw_eqs, \"log-normal\")\n",
    "\n",
    "u₀map = deterministic_IC(u₀, closed_raw_eqs)\n",
    "oprob = ODEProblem(closed_raw_eqs, u₀map, tspan, p)\n",
    "sol = solve(oprob, Tsit5(), saveat=0.1)\n",
    "\n",
    "plot(sol, idxs=[1,2], lw=2, legend=:bottomright)"
   ]
  },
  {
   "cell_type": "code",
   "execution_count": null,
   "metadata": {},
   "outputs": [],
   "source": [
    "# Note the inclusion of combinatorial scaling terms in the propensity functions\n",
    "raw_eqs = generate_raw_moment_eqs(rn, 2, combinatoric_ratelaws=true)\n",
    "closed_raw_eqs = moment_closure(raw_eqs, \"normal\")\n",
    "\n",
    "u₀map = deterministic_IC(u₀, closed_raw_eqs)\n",
    "oprob = ODEProblem(closed_raw_eqs, u₀map, tspan, p)\n",
    "sol = solve(oprob, Tsit5(), saveat=0.1)\n",
    "\n",
    "plot(sol, idxs=[1,2], lw=2)"
   ]
  },
  {
   "cell_type": "code",
   "execution_count": null,
   "metadata": {},
   "outputs": [],
   "source": [
    "raw_eqs = generate_raw_moment_eqs(rn, 3, combinatoric_ratelaws=true)\n",
    "closed_raw_eqs = moment_closure(raw_eqs, \"normal\")\n",
    "\n",
    "u₀map = deterministic_IC(u₀, closed_raw_eqs)\n",
    "oprob = ODEProblem(closed_raw_eqs, u₀map, tspan, p)\n",
    "sol = solve(oprob, Tsit5(), saveat=0.1)\n",
    "\n",
    "plot(sol, idxs=[1,2], lw=2, legend=:bottomright)"
   ]
  },
  {
   "cell_type": "code",
   "execution_count": null,
   "metadata": {},
   "outputs": [],
   "source": [
    "raw_eqs = generate_raw_moment_eqs(rn, 4, combinatoric_ratelaws=true)\n",
    "closed_raw_eqs = moment_closure(raw_eqs, \"normal\")\n",
    "\n",
    "u₀map = deterministic_IC(u₀, closed_raw_eqs)\n",
    "oprob = ODEProblem(closed_raw_eqs, u₀map, tspan, p)\n",
    "sol = solve(oprob, Tsit5(), saveat=0.1)\n",
    "\n",
    "plot(sol, idxs=[1,2], lw=2)"
   ]
  },
  {
   "cell_type": "code",
   "execution_count": null,
   "metadata": {},
   "outputs": [],
   "source": [
    "raw_eqs = generate_raw_moment_eqs(rn, 2, combinatoric_ratelaws=true)\n",
    "closed_raw_eqs = moment_closure(raw_eqs, \"log-normal\")\n",
    "\n",
    "u₀map = deterministic_IC(u₀, closed_raw_eqs)\n",
    "oprob = ODEProblem(closed_raw_eqs, u₀map, tspan, p)\n",
    "sol = solve(oprob, Rodas4P(), saveat=0.1)\n",
    "\n",
    "plot(sol, idxs=[1,2], lw=2)"
   ]
  },
  {
   "cell_type": "code",
   "execution_count": null,
   "metadata": {},
   "outputs": [],
   "source": [
    "raw_eqs = generate_raw_moment_eqs(rn, 3, combinatoric_ratelaws=true)\n",
    "closed_raw_eqs = moment_closure(raw_eqs, \"log-normal\")\n",
    "\n",
    "u₀map = deterministic_IC(u₀, closed_raw_eqs)\n",
    "oprob = ODEProblem(closed_raw_eqs, u₀map, tspan, p)\n",
    "sol = solve(oprob, Rodas4P(), saveat=0.1)\n",
    "\n",
    "plot(sol, idxs=[1,2], lw=2)"
   ]
  }
 ],
 "metadata": {
  "kernelspec": {
   "display_name": "Julia 1.11.4",
   "language": "julia",
   "name": "julia-1.11"
  },
  "language_info": {
   "file_extension": ".jl",
   "mimetype": "application/julia",
   "name": "julia",
   "version": "1.11.4"
  }
 },
 "nbformat": 4,
 "nbformat_minor": 4
}
